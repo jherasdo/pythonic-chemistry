{
 "cells": [
  {
   "cell_type": "markdown",
   "id": "1ac2e981",
   "metadata": {},
   "source": [
    "## Array-based calculation with Numpy\n",
    "At the core of the scientific ecosystem of Python, there is Numpy, a library for accessing, manipulations and efficiently operating multidimensional *arrays* of data. \n",
    "\n",
    "These arrays are the foundation of many other libraries (such as Pandas DataFrames) and are essential in computing-intensive applications of Python, as they allow to overcome the limited performance of the language by delegating these costly calculations to more efficient languages such as C. Additionally, Numpy does also allow to *vectorize* operations, allowing to do complex operations over complete arrays of data without requiring explicit loops that would greatly reduce the overall performance.\n",
    "\n",
    "Here, we will see a very basic overview of Numpy: although at this point we will not need the stong number-crushing capabilities of the library, arrays can be extremely convenient to do operations over vectors or matrices."
   ]
  },
  {
   "cell_type": "markdown",
   "id": "d0ed4e97",
   "metadata": {},
   "source": [
    "### Numpy arrays\n",
    "In terms of pure Python, we could consider a 1D Numpy array as a modification over a *list* of numbers. A 2D array (matrix) would be similar to a list of lists, where each inner list is a *row* of the array. We may also consider the parallelism with a DataFrame (N rows x M columns): however, arrays do not have column names, explicit row indices, and neither contain mixed data types.\n",
    "\n",
    "We can easily define arrays both lists or lists of lists, as well as generating them from numeric DataFrames. \n",
    "\n",
    "A key method of arrays is its `.shape`, which corresponds to the (NxM) size."
   ]
  },
  {
   "cell_type": "code",
   "execution_count": 1,
   "id": "963d7ec1",
   "metadata": {},
   "outputs": [],
   "source": [
    "import numpy as np\n",
    "import pandas as pd"
   ]
  },
  {
   "cell_type": "code",
   "execution_count": 2,
   "id": "b8f77700",
   "metadata": {},
   "outputs": [
    {
     "name": "stdout",
     "output_type": "stream",
     "text": [
      "[0 1 2 3 4 5]\n",
      "(6,)\n",
      "-----\n",
      "[[ 0  1  2  3]\n",
      " [ 4  5  6  7]\n",
      " [ 8  9 10 11]]\n",
      "(3, 4)\n",
      "-----\n",
      "[[ 3.    0.45  8.8 ]\n",
      " [ 3.3   0.49  9.5 ]\n",
      " [ 3.26  0.44 10.1 ]\n",
      " [ 3.19  0.4   9.9 ]\n",
      " [ 3.19  0.4   9.9 ]\n",
      " [ 3.26  0.44 10.1 ]\n",
      " [ 3.18  0.47  9.6 ]\n",
      " [ 3.    0.45  8.8 ]\n",
      " [ 3.3   0.49  9.5 ]\n",
      " [ 3.22  0.45 11.  ]\n",
      " [ 2.99  0.56 12.  ]\n",
      " [ 3.14  0.53  9.7 ]\n",
      " [ 3.18  0.63 10.8 ]\n",
      " [ 3.54  0.52 12.4 ]\n",
      " [ 2.98  0.67  9.7 ]\n",
      " [ 3.25  0.55 11.4 ]\n",
      " [ 3.24  0.36  9.6 ]\n",
      " [ 3.33  0.39 12.8 ]\n",
      " [ 3.12  0.53 11.3 ]\n",
      " [ 3.22  0.5   9.5 ]]\n",
      "(20, 3)\n",
      "-----\n"
     ]
    }
   ],
   "source": [
    "# Defining a simple array from a list.\n",
    "arr1 = np.array([0,1,2,3,4,5])\n",
    "print(arr1)\n",
    "print(arr1.shape)\n",
    "print(\"-----\")\n",
    "# And for 2D\n",
    "\n",
    "arr2 = np.array([[0,1,2,3],[4,5,6,7],[8,9,10,11]])\n",
    "print(arr2)\n",
    "print(arr2.shape)\n",
    "print(\"-----\")\n",
    "# Load the DataFrame we filtered and saved, and transform to array\n",
    "df = pd.read_csv(\"Selected_DF_wines.csv\",index_col=0)\n",
    "# We have to avoid non-numeric columns: remove the type\n",
    "df2 = df.loc[:,[\"pH\",\"sulphates\",\"alcohol\"]]\n",
    "\n",
    "# Use the .to_numpy() method\n",
    "arr3 = df2.to_numpy()\n",
    "print(arr3)\n",
    "print(arr3.shape)\n",
    "print(\"-----\")"
   ]
  },
  {
   "cell_type": "markdown",
   "id": "708da2bb",
   "metadata": {},
   "source": [
    "### Accessing arrays\n",
    "In a Numpy array, we can either get individual elements or *slices* of the array (e.g., one column, a set of rows...). This is similar to what we did for DataFrames, but here we can only use numeric indices: specify the row and column number(s) we want to access, with a *semicolon* to allow any index."
   ]
  },
  {
   "cell_type": "code",
   "execution_count": 3,
   "id": "afa4281f",
   "metadata": {},
   "outputs": [
    {
     "name": "stdout",
     "output_type": "stream",
     "text": [
      "2\n",
      "-----\n",
      "[1 5 9]\n",
      "-----\n",
      "[[3.3  0.49]\n",
      " [3.19 0.4 ]\n",
      " [3.   0.45]]\n",
      "-----\n"
     ]
    }
   ],
   "source": [
    "# Get the third element of the first array\n",
    "print(arr1[2])\n",
    "print(\"-----\")\n",
    "# Get the second column of the second array, which shall be 1,5,9\n",
    "print(arr2[:,1])\n",
    "print(\"-----\")\n",
    "# Get rows 1, 3 and 7 and columns 1 and 2 of the third array\n",
    "print(arr3[[1,3,7],0:2])\n",
    "print(\"-----\")"
   ]
  },
  {
   "cell_type": "markdown",
   "id": "22df6ee4",
   "metadata": {},
   "source": [
    "### Operating arrays\n",
    "We can apply any operation we will do for numbers to arrays. However, if we operate two arrays together, their shapes must be consistent.\n",
    "\n",
    "Numpy attempts to apply *broadcasting*: if two arrays do not have the same shape, it will try to adapt their shapes: for example, if we have a **(4,5)** array and we try to add a **(4,1)** array, it will take the **column** from the 2nd array (4 rows, 1 column) and add it to the five columns of the other one.\n",
    "\n",
    "However, broadcasting can be tricky: if the second array was not **(4,1)** but only **(4,)** (monodimensional), it will be added across *rows*, which will not work because shapes do not match!. Be careful with array shapes and adapt them accordingly."
   ]
  },
  {
   "cell_type": "code",
   "execution_count": 4,
   "id": "70dbe21c",
   "metadata": {},
   "outputs": [
    {
     "name": "stdout",
     "output_type": "stream",
     "text": [
      "Sum 5\n",
      "[[ 5  6  7  8]\n",
      " [ 9 10 11 12]\n",
      " [13 14 15 16]]\n",
      "----\n",
      "Multiply by 5\n",
      "[[ 0  5 10 15]\n",
      " [20 25 30 35]\n",
      " [40 45 50 55]]\n",
      "----\n",
      "Square\n",
      "[[  0   1   4   9]\n",
      " [ 16  25  36  49]\n",
      " [ 64  81 100 121]]\n"
     ]
    }
   ],
   "source": [
    "# We can add, multiply... scalar values\n",
    "print(\"Sum 5\")\n",
    "print(arr2 + 5)\n",
    "print(\"----\")\n",
    "print(\"Multiply by 5\")\n",
    "print(arr2 * 5)\n",
    "print(\"----\")\n",
    "print(\"Square\")\n",
    "print(arr2**2)"
   ]
  },
  {
   "cell_type": "code",
   "execution_count": 5,
   "id": "43cb5052",
   "metadata": {},
   "outputs": [
    {
     "name": "stdout",
     "output_type": "stream",
     "text": [
      "Before multiplication\n",
      "[[ 0  1  2  3]\n",
      " [ 4  5  6  7]\n",
      " [ 8  9 10 11]]\n",
      "After multiplication\n",
      "[[ 0  1  0  0]\n",
      " [ 4  5  0 14]\n",
      " [ 8  9 10 11]]\n"
     ]
    }
   ],
   "source": [
    "# If we multiply two compatible arrays, it will operate element-wise\n",
    "# More complex matrix multiplication requires specific operations (matmul) -> but we will not cover this\n",
    "arr2b = np.array([[1,1,0,0],[1,1,0,2],[1,1,1,1]])\n",
    "print(\"Before multiplication\")\n",
    "print(arr2)\n",
    "print(\"After multiplication\")\n",
    "print(arr2*arr2b)"
   ]
  },
  {
   "cell_type": "code",
   "execution_count": 6,
   "id": "466c010e",
   "metadata": {},
   "outputs": [
    {
     "name": "stdout",
     "output_type": "stream",
     "text": [
      "[[10 11 15 15]\n",
      " [14 15 15 23]\n",
      " [18 19 20 21]]\n"
     ]
    }
   ],
   "source": [
    "# And we can chain operations as desired\n",
    "print((arr2-5)*(arr2b**2) + 15)"
   ]
  },
  {
   "cell_type": "code",
   "execution_count": 7,
   "id": "7d816327",
   "metadata": {},
   "outputs": [
    {
     "name": "stdout",
     "output_type": "stream",
     "text": [
      "Shape-arr4 (4, 5) Shape-arr5 (4,)\n"
     ]
    },
    {
     "ename": "ValueError",
     "evalue": "operands could not be broadcast together with shapes (4,5) (4,) ",
     "output_type": "error",
     "traceback": [
      "\u001b[0;31m---------------------------------------------------------------------------\u001b[0m",
      "\u001b[0;31mValueError\u001b[0m                                Traceback (most recent call last)",
      "Cell \u001b[0;32mIn[7], line 8\u001b[0m\n\u001b[1;32m      6\u001b[0m \u001b[38;5;28mprint\u001b[39m(\u001b[38;5;124m\"\u001b[39m\u001b[38;5;124mShape-arr4\u001b[39m\u001b[38;5;124m\"\u001b[39m,arr4\u001b[38;5;241m.\u001b[39mshape,\u001b[38;5;124m\"\u001b[39m\u001b[38;5;124mShape-arr5\u001b[39m\u001b[38;5;124m\"\u001b[39m,arr5\u001b[38;5;241m.\u001b[39mshape)\n\u001b[1;32m      7\u001b[0m \u001b[38;5;66;03m# These CANNOT be added\u001b[39;00m\n\u001b[0;32m----> 8\u001b[0m \u001b[43marr4\u001b[49m\u001b[43m \u001b[49m\u001b[38;5;241;43m+\u001b[39;49m\u001b[43m \u001b[49m\u001b[43marr5\u001b[49m\n",
      "\u001b[0;31mValueError\u001b[0m: operands could not be broadcast together with shapes (4,5) (4,) "
     ]
    }
   ],
   "source": [
    "# Broadcasting can be an issue\n",
    "\n",
    "arr4 = np.array([[0,1,2,3,4],[5,6,7,8,9],[10,11,12,13,14],[15,16,17,18,19]])\n",
    "arr5 = np.array(([10,10,10,10]))\n",
    "\n",
    "print(\"Shape-arr4\",arr4.shape,\"Shape-arr5\",arr5.shape)\n",
    "# These CANNOT be added\n",
    "arr4 + arr5"
   ]
  },
  {
   "cell_type": "code",
   "execution_count": 8,
   "id": "061763f1",
   "metadata": {},
   "outputs": [
    {
     "name": "stdout",
     "output_type": "stream",
     "text": [
      "(4, 1)\n"
     ]
    },
    {
     "data": {
      "text/plain": [
       "array([[10, 11, 12, 13, 14],\n",
       "       [15, 16, 17, 18, 19],\n",
       "       [20, 21, 22, 23, 24],\n",
       "       [25, 26, 27, 28, 29]])"
      ]
     },
     "execution_count": 8,
     "metadata": {},
     "output_type": "execute_result"
    }
   ],
   "source": [
    "# But we can RESHAPE an array:\n",
    "arr6 = arr5.reshape(4,1)\n",
    "print(arr6.shape)\n",
    "# And columnwise sum works\n",
    "arr4 + arr6"
   ]
  },
  {
   "cell_type": "code",
   "execution_count": 9,
   "id": "ca51638c",
   "metadata": {},
   "outputs": [
    {
     "name": "stdout",
     "output_type": "stream",
     "text": [
      "[[ 0  1  2  3  4]\n",
      " [ 5  6  7  8  9]\n",
      " [10 11 12 13 14]\n",
      " [15 16 17 18 19]]\n",
      "Mean across columns\n",
      "[ 7.5  8.5  9.5 10.5 11.5]\n",
      "Sum across rows\n",
      "[10 35 60 85]\n"
     ]
    }
   ],
   "source": [
    "# Like with DataFrames, we can apply statistical operations, and specify if we want them across columns\n",
    "# getting values for every row (axis=0) or across rows, getting column-wise aggregations (axis=1)\n",
    "print(arr4)\n",
    "print(\"Mean across columns\")\n",
    "print(np.mean(arr4,axis=0))\n",
    "print(\"Sum across rows\")\n",
    "print(np.sum(arr4,axis=1))"
   ]
  },
  {
   "cell_type": "code",
   "execution_count": 10,
   "id": "7a19fb0b",
   "metadata": {},
   "outputs": [
    {
     "name": "stdout",
     "output_type": "stream",
     "text": [
      "Max value 19\n",
      "Max position [3 3 3 3 3]\n",
      "Max position [4 4 4 4]\n",
      "Max position (3, 4)\n"
     ]
    }
   ],
   "source": [
    "# A quite useful feature is the possibility to locate not only maxima and minima, but also their indices\n",
    "print(\"Max value\",np.max(arr4))\n",
    "\n",
    "# Index of the maximum across columns, shown for every row\n",
    "print(\"Max position\",np.argmax(arr4,axis=0))\n",
    "\n",
    "# Index of the maximum across rows,shown for every column\n",
    "print(\"Max position\",np.argmax(arr4,axis=1))\n",
    "\n",
    "# If we just use argmax, we get a single index: we need unravel_index to transform it\n",
    "# Here, the position 19, which corresponds to (3,4)\n",
    "print(\"Max position\",np.unravel_index(np.argmax(arr4),arr4.shape))\n",
    "\n",
    "# Unravel allows to go from a position (e.g. 19th element in the array) to its corresponding index,\n",
    "# given the shape of the target array"
   ]
  },
  {
   "cell_type": "markdown",
   "id": "33b6a107",
   "metadata": {},
   "source": [
    "### Array creation\n",
    "Apart from manually defining lists of lists, there are many tools to create arrays programatically.\n",
    "- `np.linspace`. Create a 1D array from *start* to *stop* value, with a total of *step* values.\n",
    "- `np.zeros`. Create an array full of zeros with a pre-specified *shape*.\n",
    "- `np.full`. Create an array with a pre-specified *shape* and a *fill_value*.\n",
    "- `np.arange`. Create a 1D array of INTEGERS from *start* to *stop* value, with a total of *step*."
   ]
  },
  {
   "cell_type": "code",
   "execution_count": 11,
   "id": "14b10a78",
   "metadata": {},
   "outputs": [
    {
     "name": "stdout",
     "output_type": "stream",
     "text": [
      "Sequence from 0 to 20 [ 0.          2.22222222  4.44444444  6.66666667  8.88888889 11.11111111\n",
      " 13.33333333 15.55555556 17.77777778 20.        ]\n",
      "4x2 array of zeros\n",
      "[[0. 0.]\n",
      " [0. 0.]\n",
      " [0. 0.]\n",
      " [0. 0.]]\n",
      "4x1 array of tens\n",
      "[[10]\n",
      " [10]\n",
      " [10]\n",
      " [10]]\n"
     ]
    }
   ],
   "source": [
    "lin_seq = np.linspace(0,20,10)\n",
    "print(\"Sequence from 0 to 20\",lin_seq)\n",
    "arr_zeros = np.zeros((4,2))\n",
    "print(\"4x2 array of zeros\")\n",
    "print(arr_zeros)\n",
    "arr_full = np.full((4,1),fill_value=10)\n",
    "print(\"4x1 array of tens\")\n",
    "print(arr_full)"
   ]
  },
  {
   "cell_type": "markdown",
   "id": "8387eaa5",
   "metadata": {},
   "source": [
    "### Array reshaping\n",
    "Previously mentioned, `np.reshape` allows to modify the shape of an array: however, we must be sure that the new shape is compatible. For example, we would not be able to take a 1D array of length 8 to be an array of size 4x3.\n",
    "\n",
    "Default ordering fills rows first, adding consecutive values to columns until the row is full. This is also known as C-order.\n",
    "\n",
    "*\\[a,b,c,d,e,f\\]* $\\rightarrow$ **\\[\\[a,b,c\\],\\[d,e,f\\]]**\n",
    "\n",
    "TO go from a N-D array to a 1D one, we may use the `.flatten` attribute instead"
   ]
  },
  {
   "cell_type": "code",
   "execution_count": 12,
   "id": "8bdb4210",
   "metadata": {},
   "outputs": [
    {
     "name": "stdout",
     "output_type": "stream",
     "text": [
      "4x4 array for range from 0 to 30\n",
      "[[ 0.  2.  4.  6.]\n",
      " [ 8. 10. 12. 14.]\n",
      " [16. 18. 20. 22.]\n",
      " [24. 26. 28. 30.]]\n"
     ]
    }
   ],
   "source": [
    "lin_seq2 = np.linspace(0,30,16)\n",
    "seq_arr = np.reshape(lin_seq2,(4,4))\n",
    "print(\"4x4 array for range from 0 to 30\")\n",
    "print(seq_arr)"
   ]
  },
  {
   "cell_type": "code",
   "execution_count": 13,
   "id": "8d6adad1",
   "metadata": {},
   "outputs": [
    {
     "name": "stdout",
     "output_type": "stream",
     "text": [
      "4x4 array for range from 0 to 30, F-order\n",
      "[[ 0.  8. 16. 24.]\n",
      " [ 2. 10. 18. 26.]\n",
      " [ 4. 12. 20. 28.]\n",
      " [ 6. 14. 22. 30.]]\n"
     ]
    }
   ],
   "source": [
    "# We could switch this, and fill columns first, adding consecutive values to rows until the column is full\n",
    "# Fortran (or F-) order\n",
    "seq_arrF = np.reshape(lin_seq2,(4,4),order=\"F\")\n",
    "print(\"4x4 array for range from 0 to 30, F-order\")\n",
    "print(seq_arrF)"
   ]
  },
  {
   "cell_type": "code",
   "execution_count": 14,
   "id": "275dedf1",
   "metadata": {},
   "outputs": [
    {
     "name": "stdout",
     "output_type": "stream",
     "text": [
      "Re-flattened array\n",
      "[ 0.  2.  4.  6.  8. 10. 12. 14. 16. 18. 20. 22. 24. 26. 28. 30.]\n",
      "Re-flattened array: C-order and F-order mixed\n",
      "[ 0.  8. 16. 24.  2. 10. 18. 26.  4. 12. 20. 28.  6. 14. 22. 30.]\n"
     ]
    }
   ],
   "source": [
    "# Reverse operation: flattening\n",
    "print(\"Re-flattened array\")\n",
    "print(seq_arr.flatten())\n",
    "print(\"Re-flattened array: C-order and F-order mixed\")\n",
    "print(seq_arrF.flatten())\n",
    "\n",
    "# Be careful!"
   ]
  },
  {
   "cell_type": "markdown",
   "id": "04e45cee",
   "metadata": {},
   "source": [
    "### Vector operations\n",
    "We can use arrays to do operations on vectors: e.g., scalar product (`np.dot`) and vectorial product (`np.cross`)."
   ]
  },
  {
   "cell_type": "code",
   "execution_count": 15,
   "id": "4eaf6267",
   "metadata": {},
   "outputs": [
    {
     "name": "stdout",
     "output_type": "stream",
     "text": [
      "Element-wise\n",
      "[-1  2  6]\n",
      "Dot product, to a scalar\n",
      "7\n",
      "Vectorial product\n",
      "[ 4 -5  3]\n"
     ]
    }
   ],
   "source": [
    "v1 = np.array([1,2,2])\n",
    "v2 = np.array([-1,1,3])\n",
    "\n",
    "print(\"Element-wise\")\n",
    "print(v1*v2)\n",
    "print(\"Dot product, to a scalar\")\n",
    "print(np.dot(v1,v2))\n",
    "print(\"Vectorial product\")\n",
    "print(np.cross(v1,v2))"
   ]
  },
  {
   "cell_type": "markdown",
   "id": "9636b81a",
   "metadata": {},
   "source": [
    "### The efficiency of arrays\n",
    "To demonstrate how Numpy arrays improve calculation performance, we will come back to the example from the lesson on loops and list comprehensions, benchmarking the two previous approaches against the Numpy solution."
   ]
  },
  {
   "cell_type": "code",
   "execution_count": 16,
   "id": "ed89d9be",
   "metadata": {},
   "outputs": [
    {
     "name": "stdout",
     "output_type": "stream",
     "text": [
      "FOR loop time: 0.058241844177246094\n",
      "List comprehension time: 0.04014444351196289\n",
      "Array time: 0.0029039382934570312\n"
     ]
    }
   ],
   "source": [
    "# We will consider the operation i*2 + 5 \n",
    "import time\n",
    "\n",
    "iterations = 1000000\n",
    "\n",
    "# For loop\n",
    "start = time.time() # saving time at the start\n",
    "myList = []\n",
    "for i in range(iterations):\n",
    "    myList.append(2*i+5)\n",
    "end = time.time()\n",
    "\n",
    "print(f\"FOR loop time: {end-start}\")\n",
    "\n",
    "# List comprehension\n",
    "start = time.time()\n",
    "myList = [2*i+5 for i in range(iterations)]\n",
    "end = time.time()\n",
    "print(f\"List comprehension time: {end-start}\")\n",
    "\n",
    "# Numpy\n",
    "start = time.time()\n",
    "vals = np.arange(0,iterations)\n",
    "vals2 = 2*vals + 5\n",
    "end = time.time()\n",
    "print(f\"Array time: {end-start}\")\n",
    "\n",
    "# And it is more than ten times faster than the list comprehension approach\n",
    "# For larger arrays and/or more complex operations, arrays can be the only feasible solution"
   ]
  },
  {
   "cell_type": "code",
   "execution_count": null,
   "id": "0a64a384",
   "metadata": {},
   "outputs": [],
   "source": []
  },
  {
   "cell_type": "markdown",
   "id": "6c891357",
   "metadata": {},
   "source": [
    "### Application example: linear regression\n",
    "Linear regression is one of the most widespread predictive models in science, correlating a given *response variable* $y$ with a set of *features* $x_0, x_1, x_2,...,x_n$, obtaining an equation of the form:\n",
    "$y = \\alpha_0 x_0 + \\alpha_1 x_1 + ... + \\alpha_n x_n + \\beta $\n",
    "\n",
    "Here, we will employ Numpy to perform a simple linear regression, with a single feature $x$ ($y = mx + n$). To do this, we will consider the expressions that result from the application of the *least squares* principle.\n",
    "\n",
    "Defining the **residuals** of the observation **i** as $e_i = y_{pred,i} - y_i = mx_i + n - y_i$, we want the values of *m* and *n* that minimize the *mean squared error* of these residuals.\n",
    "\n",
    "$MSE = \\frac{1}{N} \\sum_i^{n} e_i^2 = \\sum_i^n (y_i -mx_i - n)^2$\n",
    "\n",
    "And after minimizing the previous expression, we find two analytic expressions for the *slope* **m** and the *intercept* **n**:\n",
    "\n",
    "$m = \\frac{\\sum_1^N (x_i - \\bar{x}) (y_i - \\bar{y})}{\\sum_i^n (x_i -\\bar{x})^2} = \\frac{s_{xy}}{s_x^2}$\n",
    "\n",
    "$n = \\bar{y} - n \\bar{x}$\n",
    "\n",
    "(Magnitudes with a bar are averages, e.g. $\\bar{x} = \\frac{1}{n} \\sum x_i$)\n",
    "\n",
    "And from here, we can also define the *correlation coefficient* **r**, whose square $r^2$ is a common measurement of the quality of the regression: the closer it is to one, the better the regression.\n",
    "\n",
    "$r_{xy} = \\frac{\\bar{xy} - \\bar{x}\\cdot\\bar{y}}{\\sqrt{(\\bar{x^2}-(\\bar{x})^2)(\\bar{y^2}-(\\bar{y})^2)}}$"
   ]
  },
  {
   "cell_type": "code",
   "execution_count": 35,
   "id": "43d52854",
   "metadata": {},
   "outputs": [
    {
     "data": {
      "text/plain": [
       "Text(0, 0.5, 'response')"
      ]
     },
     "execution_count": 35,
     "metadata": {},
     "output_type": "execute_result"
    },
    {
     "data": {
      "image/png": "[encoded data removed]",
      "text/plain": [
       "<Figure size 400x300 with 1 Axes>"
      ]
     },
     "metadata": {},
     "output_type": "display_data"
    }
   ],
   "source": [
    "#### Values to use\n",
    "x_values = np.array([0,2,2.5,4,6,7,10])\n",
    "y_values = np.array([-2.5,1.1,2.5,4,8.8,13,16])\n",
    "\n",
    "\n",
    "# We will cover visualization later, but here we have a snippet to get an idea on how the data is\n",
    "import matplotlib.pyplot\n",
    "fig = plt.figure(figsize=(4,3))\n",
    "ax = fig.add_subplot()\n",
    "ax.scatter(x_values,y_values)\n",
    "ax.set_xlabel(\"feature\")\n",
    "ax.set_ylabel(\"response\")"
   ]
  },
  {
   "cell_type": "code",
   "execution_count": 69,
   "id": "a07aff70",
   "metadata": {},
   "outputs": [
    {
     "name": "stdout",
     "output_type": "stream",
     "text": [
      "y = 1.9453x + -2.6254 (r2 = 0.9769)\n"
     ]
    }
   ],
   "source": [
    "### Compute the terms in the equations: sxy, sx^2, n, m and r_xy\n",
    "\n",
    "avg_x = np.mean(x_values)\n",
    "avg_y = np.mean(y_values)\n",
    "s_xy = np.sum((x_values - avg_x)*(y_values - avg_y))\n",
    "s_x2 = np.sum((x_values - avg_x)**2)\n",
    "\n",
    "m = s_xy/s_x2\n",
    "n = avg_y - m*avg_x\n",
    "\n",
    "r_xy_num = np.mean(x_values*y_values) - avg_x*avg_y\n",
    "r_xy_denom_sqrd = (np.mean(x_values**2) - avg_x**2)*(np.mean(y_values**2) - avg_y**2)\n",
    "r_xy = r_xy_num/np.sqrt(r_xy_denom_sqrd)\n",
    "\n",
    "print(\"y = {:.4f}x + {:.4f} (r2 = {:.4f})\".format(m,n,r_xy**2))"
   ]
  },
  {
   "cell_type": "code",
   "execution_count": null,
   "id": "3629572a",
   "metadata": {},
   "outputs": [],
   "source": []
  },
  {
   "cell_type": "code",
   "execution_count": null,
   "id": "a3f99d7b",
   "metadata": {},
   "outputs": [],
   "source": [
    "#### This will be an exercise on visualization!"
   ]
  },
  {
   "cell_type": "code",
   "execution_count": 70,
   "id": "9cc331cd",
   "metadata": {},
   "outputs": [],
   "source": [
    "### values for the line\n",
    "xtest = np.linspace(0,10,50)\n",
    "ytest = m*xtest + n"
   ]
  },
  {
   "cell_type": "code",
   "execution_count": 71,
   "id": "cc5b9c64",
   "metadata": {},
   "outputs": [
    {
     "data": {
      "text/plain": [
       "Text(0, 0.5, 'response')"
      ]
     },
     "execution_count": 71,
     "metadata": {},
     "output_type": "execute_result"
    },
    {
     "data": {
      "image/png": "[encoded data removed]",
      "text/plain": [
       "<Figure size 400x300 with 1 Axes>"
      ]
     },
     "metadata": {},
     "output_type": "display_data"
    }
   ],
   "source": [
    "fig = plt.figure(figsize=(4,3))\n",
    "ax = fig.add_subplot()\n",
    "ax.scatter(x_values,y_values)\n",
    "ax.plot(xtest,ytest)\n",
    "ax.set_xlabel(\"feature\")\n",
    "ax.set_ylabel(\"response\")"
   ]
  },
  {
   "cell_type": "code",
   "execution_count": 54,
   "id": "7b9c1b51",
   "metadata": {},
   "outputs": [
    {
     "data": {
      "text/plain": [
       "array([ 1.94532374, -2.62538541])"
      ]
     },
     "execution_count": 54,
     "metadata": {},
     "output_type": "execute_result"
    }
   ],
   "source": [
    "np.polyfit(x_values,y_values,deg=1)"
   ]
  },
  {
   "cell_type": "code",
   "execution_count": null,
   "id": "1e17774a",
   "metadata": {},
   "outputs": [],
   "source": []
  }
 ],
 "metadata": {
  "kernelspec": {
   "display_name": "Python 3 (ipykernel)",
   "language": "python",
   "name": "python3"
  },
  "language_info": {
   "codemirror_mode": {
    "name": "ipython",
    "version": 3
   },
   "file_extension": ".py",
   "mimetype": "text/x-python",
   "name": "python",
   "nbconvert_exporter": "python",
   "pygments_lexer": "ipython3",
   "version": "3.10.12"
  }
 },
 "nbformat": 4,
 "nbformat_minor": 5
}
