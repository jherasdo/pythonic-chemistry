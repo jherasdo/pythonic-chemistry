{
 "cells": [
  {
   "cell_type": "markdown",
   "metadata": {},
   "source": [
    "# **Intermediate Python**"
   ]
  },
  {
   "cell_type": "markdown",
   "metadata": {},
   "source": [
    "## 1. Introduction"
   ]
  },
  {
   "cell_type": "markdown",
   "metadata": {},
   "source": [
    "Now that we already know how to set variables, conditional statements (e.g., if, else) and iterable structures (e.g., lists, dictionaries, tuples), it is time to learn control structures like **for** and **while**. In general, control structures enable the programmer to determine the order in which programmatic statements are executed. One of those structures are the **Loops**, which allows you to repeat one or more statements until some **condition** becomes true. Note, that this type of control statement is what makes computers so valuable. A computer can repeatedly execute the same instruction over-and-over again without getting bored with the repetition. \n",
    "\n",
    "Then, we will dive deeper into **best programming practices** introducing how to implement functions in Python. In general, it is a good practice to write functions that are simple and specific for one task. For instances, calculating the mean from a list of values, get the formula of a chemical compound or even opening a csv file.\n",
    "\n",
    "Finally, for this **Intermediate Python** lecture we will introduce you to the concepts of **Object-oriented programming (OOP)** which is basically a method of structuring a programm by bundling related properties and behaviors into individual **objects**. "
   ]
  },
  {
   "cell_type": "markdown",
   "metadata": {},
   "source": [
    "## 2. Control Structures"
   ]
  },
  {
   "cell_type": "markdown",
   "metadata": {},
   "source": [
    "In Python there are two kinds of loops available **for loop** and **while loop**. The loop is a set of statements that are used to execute a set of more tha one time. \n",
    "\n",
    "FIGURE OF FOR AND WHILE LOOP"
   ]
  },
  {
   "cell_type": "markdown",
   "metadata": {},
   "source": [
    "### 2.1 WHILE LOOP"
   ]
  },
  {
   "cell_type": "code",
   "execution_count": 4,
   "metadata": {},
   "outputs": [
    {
     "name": "stdout",
     "output_type": "stream",
     "text": [
      "Counter: 0\n",
      "Counter: 1\n",
      "Counter: 2\n",
      "Counter: 3\n",
      "Counter: 4\n"
     ]
    }
   ],
   "source": [
    "# Let's start with a simple while loop\n",
    "counter = 0\n",
    "\n",
    "while counter < 5:\n",
    "    print(f\"Counter: {counter}\")\n",
    "    counter += 1"
   ]
  },
  {
   "cell_type": "markdown",
   "metadata": {},
   "source": [
    "**Break** statement is particularly useful for exiting the loop when a certain condition is met, even if the main loop condition remains true. This allows for more control over when to stop the loop, which is helpful in situations like searching for particular element in a sequence or stopping the loop based on user input."
   ]
  },
  {
   "cell_type": "code",
   "execution_count": 5,
   "metadata": {},
   "outputs": [
    {
     "name": "stdout",
     "output_type": "stream",
     "text": [
      "Counter: 0\n",
      "Counter: 1\n",
      "Counter: 2\n",
      "Counter: 3\n",
      "Counter: 4\n",
      "Counter: 5\n"
     ]
    }
   ],
   "source": [
    "# Let's incorporate the break statement\n",
    "counter = 0\n",
    "\n",
    "while counter < 10:\n",
    "    print(f\"Counter: {counter}\")\n",
    "    if counter == 5:\n",
    "        break \n",
    "    counter += 1"
   ]
  },
  {
   "cell_type": "markdown",
   "metadata": {},
   "source": [
    "**Continue** statement, like the break statement, is used to control the loop execution. However, instead of terminating the loop, the continue statement skips the remaining part of the loop body for the current interation and jumps to the next iteration, effectively continuing with the loop. This is helpful in situations where you want to skip specific iterations, such as when filtering out certain values or processing data conditionally."
   ]
  },
  {
   "cell_type": "code",
   "execution_count": 6,
   "metadata": {},
   "outputs": [
    {
     "name": "stdout",
     "output_type": "stream",
     "text": [
      "Counter: 1\n",
      "Counter: 3\n",
      "Counter: 5\n",
      "Counter: 7\n",
      "Counter: 9\n"
     ]
    }
   ],
   "source": [
    "# Let's do a while loop with continue statement\n",
    "counter = 0\n",
    "\n",
    "while counter < 10:\n",
    "    counter += 1\n",
    "    if counter % 2 == 0:\n",
    "        continue\n",
    "    print(f\"Counter: {counter}\")\n"
   ]
  },
  {
   "cell_type": "markdown",
   "metadata": {},
   "source": [
    "It is possible to combine while loops with if-else statements, which enables you to add conditional control structures within the loop, allowing for complex decision-making scenarios during iteration. This technique can be advanteguous for numerous tasks, such as validating user input, filtering data, or controlling the flow of execution based on certain conditions."
   ]
  },
  {
   "cell_type": "code",
   "execution_count": 7,
   "metadata": {},
   "outputs": [
    {
     "name": "stdout",
     "output_type": "stream",
     "text": [
      "1 is odd!\n",
      "2 is even!\n",
      "3 is odd!\n",
      "4 is even!\n",
      "5 is odd!\n",
      "6 is even!\n",
      "7 is odd!\n",
      "8 is even!\n",
      "9 is odd!\n",
      "10 is even!\n"
     ]
    }
   ],
   "source": [
    "# Let's do a while loop with if-else statements\n",
    "number = 1\n",
    "\n",
    "while number <= 10:\n",
    "    if number % 2 == 0:\n",
    "        print(f\"{number} is even!\")\n",
    "    else:\n",
    "        print(f\"{number} is odd!\")\n",
    "    number += 1"
   ]
  },
  {
   "cell_type": "markdown",
   "metadata": {},
   "source": [
    "**EXERCISE** Now is your time! Write a while loop that is able to convert Celsius temperatures to Fahrenheit from `celsius = 42 ºC` until celsius variables reaches the lower bound of `-100 ºC`\n",
    "\n",
    "The conversion formula is: $F = C + \\frac{9}{5} + 32$"
   ]
  },
  {
   "cell_type": "code",
   "execution_count": 1,
   "metadata": {},
   "outputs": [
    {
     "name": "stdout",
     "output_type": "stream",
     "text": [
      "42ºc = 107.6ºF\n",
      "32ºc = 89.6ºF\n",
      "22ºc = 71.6ºF\n",
      "12ºc = 53.6ºF\n",
      "2ºc = 35.6ºF\n",
      "-8ºc = 17.6ºF\n",
      "-18ºc = -0.3999999999999986ºF\n",
      "-28ºc = -18.4ºF\n",
      "-38ºc = -36.400000000000006ºF\n",
      "-48ºc = -54.400000000000006ºF\n",
      "-58ºc = -72.4ºF\n",
      "-68ºc = -90.4ºF\n",
      "-78ºc = -108.4ºF\n",
      "-88ºc = -126.4ºF\n",
      "-98ºc = -144.4ºF\n"
     ]
    }
   ],
   "source": [
    "#TODO: Write a while loop that converts from celsius to Fahrenheit\n",
    "\n",
    "celsius = 42\n",
    "\n",
    "while celsius >= -100:\n",
    "    fahrenheit = (celsius * 9/5) + 32\n",
    "    print(f\"{celsius}ºc = {fahrenheit}ºF\")\n",
    "    celsius -= 10 # Decreate by 10 degrees"
   ]
  }
 ],
 "metadata": {
  "kernelspec": {
   "display_name": "pythonic-chemistry",
   "language": "python",
   "name": "python3"
  },
  "language_info": {
   "codemirror_mode": {
    "name": "ipython",
    "version": 3
   },
   "file_extension": ".py",
   "mimetype": "text/x-python",
   "name": "python",
   "nbconvert_exporter": "python",
   "pygments_lexer": "ipython3",
   "version": "3.10.12"
  }
 },
 "nbformat": 4,
 "nbformat_minor": 2
}
