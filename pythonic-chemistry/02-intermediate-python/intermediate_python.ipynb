{
 "cells": [
  {
   "cell_type": "markdown",
   "metadata": {},
   "source": [
    "# **Intermediate Python**"
   ]
  },
  {
   "cell_type": "markdown",
   "metadata": {},
   "source": [
    "## 1. Introduction"
   ]
  },
  {
   "cell_type": "markdown",
   "metadata": {},
   "source": [
    "Now that we already know how to set variables, conditional statements (e.g., if, else) and iterable structures (e.g., lists, dictionaries, tuples), it is time to learn control structures like **for** and **while**. In general, control structures enable the programmer to determine the order in which programmatic statements are executed. One of those structures are the **Loops**, which allows you to repeat one or more statements until some **condition** becomes true. Note, that this type of control statement is what makes computers so valuable. A computer can repeatedly execute the same instruction over-and-over again without getting bored with the repetition. \n",
    "\n",
    "Then, we will dive deeper into **best programming practices** introducing how to implement functions in Python. In general, it is a good practice to write functions that are simple and specific for one task. For instances, calculating the mean from a list of values, get the formula of a chemical compound or even opening a csv file.\n",
    "\n",
    "Finally, for this **Intermediate Python** lecture we will introduce you to the concepts of **Object-oriented programming (OOP)** which is basically a method of structuring a programm by bundling related properties and behaviors into individual **objects**. "
   ]
  },
  {
   "cell_type": "markdown",
   "metadata": {},
   "source": [
    "## 2. Control Structures"
   ]
  },
  {
   "cell_type": "markdown",
   "metadata": {},
   "source": [
    "In Python there are two kinds of loops available **for loop** and **while loop**. The loop is a set of statements that are used to execute a set of more tha one time. \n",
    "\n",
    "FIGURE OF FOR AND WHILE LOOP"
   ]
  },
  {
   "cell_type": "markdown",
   "metadata": {},
   "source": [
    "### 2.1 WHILE LOOP"
   ]
  },
  {
   "cell_type": "code",
   "execution_count": 4,
   "metadata": {},
   "outputs": [
    {
     "name": "stdout",
     "output_type": "stream",
     "text": [
      "Counter: 0\n",
      "Counter: 1\n",
      "Counter: 2\n",
      "Counter: 3\n",
      "Counter: 4\n"
     ]
    }
   ],
   "source": [
    "# Let's start with a simple while loop\n",
    "counter = 0\n",
    "\n",
    "while counter < 5:\n",
    "    print(f\"Counter: {counter}\")\n",
    "    counter += 1"
   ]
  },
  {
   "cell_type": "markdown",
   "metadata": {},
   "source": [
    "**Break** statement is particularly useful for exiting the loop when a certain condition is met, even if the main loop condition remains true. This allows for more control over when to stop the loop, which is helpful in situations like searching for particular element in a sequence or stopping the loop based on user input."
   ]
  },
  {
   "cell_type": "code",
   "execution_count": 5,
   "metadata": {},
   "outputs": [
    {
     "name": "stdout",
     "output_type": "stream",
     "text": [
      "Counter: 0\n",
      "Counter: 1\n",
      "Counter: 2\n",
      "Counter: 3\n",
      "Counter: 4\n",
      "Counter: 5\n"
     ]
    }
   ],
   "source": [
    "# Let's incorporate the break statement\n",
    "counter = 0\n",
    "\n",
    "while counter < 10:\n",
    "    print(f\"Counter: {counter}\")\n",
    "    if counter == 5:\n",
    "        break \n",
    "    counter += 1"
   ]
  },
  {
   "cell_type": "markdown",
   "metadata": {},
   "source": [
    "**Continue** statement, like the break statement, is used to control the loop execution. However, instead of terminating the loop, the continue statement skips the remaining part of the loop body for the current interation and jumps to the next iteration, effectively continuing with the loop. This is helpful in situations where you want to skip specific iterations, such as when filtering out certain values or processing data conditionally."
   ]
  },
  {
   "cell_type": "code",
   "execution_count": 6,
   "metadata": {},
   "outputs": [
    {
     "name": "stdout",
     "output_type": "stream",
     "text": [
      "Counter: 1\n",
      "Counter: 3\n",
      "Counter: 5\n",
      "Counter: 7\n",
      "Counter: 9\n"
     ]
    }
   ],
   "source": [
    "# Let's do a while loop with continue statement\n",
    "counter = 0\n",
    "\n",
    "while counter < 10:\n",
    "    counter += 1\n",
    "    if counter % 2 == 0:\n",
    "        continue\n",
    "    print(f\"Counter: {counter}\")\n"
   ]
  },
  {
   "cell_type": "markdown",
   "metadata": {},
   "source": [
    "It is possible to combine while loops with if-else statements, which enables you to add conditional control structures within the loop, allowing for complex decision-making scenarios during iteration. This technique can be advanteguous for numerous tasks, such as validating user input, filtering data, or controlling the flow of execution based on certain conditions."
   ]
  },
  {
   "cell_type": "code",
   "execution_count": 7,
   "metadata": {},
   "outputs": [
    {
     "name": "stdout",
     "output_type": "stream",
     "text": [
      "1 is odd!\n",
      "2 is even!\n",
      "3 is odd!\n",
      "4 is even!\n",
      "5 is odd!\n",
      "6 is even!\n",
      "7 is odd!\n",
      "8 is even!\n",
      "9 is odd!\n",
      "10 is even!\n"
     ]
    }
   ],
   "source": [
    "# Let's do a while loop with if-else statements\n",
    "number = 1\n",
    "\n",
    "while number <= 10:\n",
    "    if number % 2 == 0:\n",
    "        print(f\"{number} is even!\")\n",
    "    else:\n",
    "        print(f\"{number} is odd!\")\n",
    "    number += 1"
   ]
  },
  {
   "cell_type": "markdown",
   "metadata": {},
   "source": [
    "**EXERCISE** Now is your time! Write a while loop that is able to convert Celsius temperatures to Fahrenheit from `celsius = 42 ºC` until celsius variables reaches the lower bound of `-100 ºC`\n",
    "\n",
    "The conversion formula is: $F = C + \\frac{9}{5} + 32$"
   ]
  },
  {
   "cell_type": "code",
   "execution_count": 1,
   "metadata": {},
   "outputs": [
    {
     "name": "stdout",
     "output_type": "stream",
     "text": [
      "42ºc = 107.6ºF\n",
      "32ºc = 89.6ºF\n",
      "22ºc = 71.6ºF\n",
      "12ºc = 53.6ºF\n",
      "2ºc = 35.6ºF\n",
      "-8ºc = 17.6ºF\n",
      "-18ºc = -0.3999999999999986ºF\n",
      "-28ºc = -18.4ºF\n",
      "-38ºc = -36.400000000000006ºF\n",
      "-48ºc = -54.400000000000006ºF\n",
      "-58ºc = -72.4ºF\n",
      "-68ºc = -90.4ºF\n",
      "-78ºc = -108.4ºF\n",
      "-88ºc = -126.4ºF\n",
      "-98ºc = -144.4ºF\n"
     ]
    }
   ],
   "source": [
    "#TODO: Write a while loop that converts from celsius to Fahrenheit\n",
    "\n",
    "celsius = 42\n",
    "\n",
    "while celsius >= -100:\n",
    "    fahrenheit = (celsius * 9/5) + 32\n",
    "    print(f\"{celsius}ºc = {fahrenheit}ºF\")\n",
    "    celsius -= 10 # Decreate by 10 degrees"
   ]
  },
  {
   "cell_type": "markdown",
   "metadata": {},
   "source": [
    "### 2.2 FOR LOOP"
   ]
  },
  {
   "cell_type": "markdown",
   "metadata": {},
   "source": [
    "Let's break down the structure of a **for** loop in Python. A typical for loop in Python follows this general format:\n",
    "\n",
    "for `variable` in `sequence`:\\\n",
    "    $\\qquad$# Block of code to be executed"
   ]
  },
  {
   "cell_type": "code",
   "execution_count": 8,
   "metadata": {},
   "outputs": [
    {
     "name": "stdout",
     "output_type": "stream",
     "text": [
      "1\n",
      "2\n",
      "3\n",
      "4\n",
      "5\n"
     ]
    }
   ],
   "source": [
    "# Lets do a for loop using a list as sequence\n",
    "example_list = [1, 2, 3, 4, 5]\n",
    "\n",
    "for item in example_list:\n",
    "    print(item)"
   ]
  },
  {
   "cell_type": "code",
   "execution_count": 9,
   "metadata": {},
   "outputs": [
    {
     "name": "stdout",
     "output_type": "stream",
     "text": [
      "key1 value1\n",
      "key2 value2\n",
      "key3 value3\n",
      "key4 value4\n"
     ]
    }
   ],
   "source": [
    "# Let's do a for loop using a dict (key: value) as iterator\n",
    "example_dict = {\"key1\": \"value1\", \"key2\": \"value2\", \"key3\": \"value3\", \"key4\": \"value4\"}\n",
    "\n",
    "for key, value in example_dict.items():\n",
    "    print(key, value)"
   ]
  },
  {
   "cell_type": "markdown",
   "metadata": {},
   "source": [
    "We can also use the **break** statement in **for** loops. Remember that the **break** statement allows you to exit the loop prematurely, effectively breaking out of it when a certain condition is met."
   ]
  },
  {
   "cell_type": "code",
   "execution_count": 12,
   "metadata": {},
   "outputs": [
    {
     "name": "stdout",
     "output_type": "stream",
     "text": [
      "1\n",
      "2\n",
      "3\n",
      "4\n"
     ]
    }
   ],
   "source": [
    "# Let's do a for loop with break statement\n",
    "example_list = [1, 2, 3, 4, 5, 6, 7, 8, 9, 10]\n",
    "\n",
    "for item in example_list:\n",
    "    if item == 5:\n",
    "        break\n",
    "    print(item)"
   ]
  },
  {
   "cell_type": "markdown",
   "metadata": {},
   "source": [
    "Now, let's filter a list based on a condition. The condition will be that the numbers must be even in this case."
   ]
  },
  {
   "cell_type": "code",
   "execution_count": 13,
   "metadata": {},
   "outputs": [
    {
     "name": "stdout",
     "output_type": "stream",
     "text": [
      "Even Numbers: [2, 4, 6, 8, 10]\n",
      "Odd Numbers: [1, 3, 5, 7, 9]\n"
     ]
    }
   ],
   "source": [
    "# Let's do a for loop with if-else conditions.\n",
    "example_list = [1, 2, 3, 4, 5, 6, 7, 8, 9, 10]\n",
    "\n",
    "even_numbers = []\n",
    "odd_numbers = []\n",
    "for item in example_list:\n",
    "    if item % 2 == 0:\n",
    "        even_numbers.append(item)\n",
    "    else:\n",
    "        odd_numbers.append(item)\n",
    "\n",
    "print(f\"Even Numbers: {even_numbers}\")\n",
    "print(f\"Odd Numbers: {odd_numbers}\")"
   ]
  },
  {
   "cell_type": "markdown",
   "metadata": {},
   "source": [
    "We can also do, what is called **nested loops**, meaning a for loop that has another for loop inside!"
   ]
  },
  {
   "cell_type": "code",
   "execution_count": 16,
   "metadata": {},
   "outputs": [
    {
     "name": "stdout",
     "output_type": "stream",
     "text": [
      "Row: [1, 2]\n",
      "Item: 1\n",
      "Item: 2\n",
      "Row: [3, 4]\n",
      "Item: 3\n",
      "Item: 4\n",
      "Row: [5, 6]\n",
      "Item: 5\n",
      "Item: 6\n",
      "Row: [7, 8]\n",
      "Item: 7\n",
      "Item: 8\n"
     ]
    }
   ],
   "source": [
    "# Let's do nested loops\n",
    "example_array = [[1, 2], [3, 4], [5, 6], [7, 8]]\n",
    "\n",
    "for row in example_array:\n",
    "    print(f\"Row: {row}\")\n",
    "    for item in row:\n",
    "        print(f\"Item: {item}\")"
   ]
  },
  {
   "cell_type": "markdown",
   "metadata": {},
   "source": [
    "**EXERCISE** Let's simulate a pH measuring device that is able to tell from a list of solutions whether the pH is acidic, alkaline or neutral.\n",
    "\n",
    "**HINT**: You need to start from this list of ph_values (2.0, 4.5, 6.8, 7.0, 7.2, 8.0, 9.3)"
   ]
  },
  {
   "cell_type": "code",
   "execution_count": 20,
   "metadata": {},
   "outputs": [
    {
     "name": "stdout",
     "output_type": "stream",
     "text": [
      "The solution with pH 2.0 is acidic.\n",
      "The solution with pH 4.5 is acidic.\n",
      "The solution with pH 6.8 is acidic.\n",
      "The solution with pH 7.0 is neutral.\n",
      "The solution with pH 7.2 is alkaline.\n",
      "The solution with pH 8.0 is alkaline.\n",
      "The solution with pH 9.3 is alkaline.\n"
     ]
    }
   ],
   "source": [
    "#TODO: Write a for loop that is able to classify the solutions into acidic, alkaline or neutral and print it.\n",
    "\n",
    "ph_values = [2.0, 4.5, 6.8, 7.0, 7.2, 8.0, 9.3]\n",
    "\n",
    "# Analyze the pH for each solution\n",
    "for ph_value in ph_values:\n",
    "    if ph_value < 7:\n",
    "        acidity = \"acidic\"\n",
    "    elif ph_value > 7:\n",
    "        acidity = \"alkaline\"\n",
    "    else:\n",
    "        acidity = \"neutral\"\n",
    "\n",
    "    print(f\"The solution with pH {ph_value} is {acidity}.\")"
   ]
  },
  {
   "cell_type": "markdown",
   "metadata": {},
   "source": [
    "## 2.3 List and Dict Comprehension"
   ]
  },
  {
   "cell_type": "markdown",
   "metadata": {},
   "source": [
    "There is an alternative way of using **for** loops in the particular cases of lists and dictionaries. For instance, list comprehension in Python is a concise way of creating lists from the ones that already exist, providing a shorter syntax.\n",
    "\n",
    "For a **for** loop:\n",
    "\n",
    "for `item` in `iterable`:\\\n",
    "    $\\qquad$ if `conditional`\\\n",
    "    $\\qquad$ $\\qquad$ `expresion`\n",
    "\n",
    "The list comprehension syntax would be:\n",
    "\n",
    "[`expresion` for `item` in `iterable` if `conditional`]"
   ]
  },
  {
   "cell_type": "code",
   "execution_count": 22,
   "metadata": {},
   "outputs": [
    {
     "name": "stdout",
     "output_type": "stream",
     "text": [
      "For loop result: [1, 4, 9, 16, 25, 36, 49, 64, 81, 100]\n",
      "List comprehension: [1, 4, 9, 16, 25, 36, 49, 64, 81, 100]\n"
     ]
    }
   ],
   "source": [
    "# Let's see a pythonic example\n",
    "\n",
    "## Using a for loop\n",
    "example_list_1 = []\n",
    "for i in range(1, 11):\n",
    "    a = i*i\n",
    "    example_list_1.append(a)\n",
    "print(f\"For loop result: {example_list_1}\")\n",
    "\n",
    "## Using list comprehension\n",
    "example_list_2 = [i*i for i in range(1, 11)]\n",
    "print(f\"List comprehension: {example_list_2}\")"
   ]
  },
  {
   "cell_type": "markdown",
   "metadata": {},
   "source": [
    "Usually in programming some strategies such as the **for loop** vs. a **list comprehension** might look like identicall and just a way to make syntax prettier. But in this case, it might have some implications in the efficiency of the loop."
   ]
  },
  {
   "cell_type": "code",
   "execution_count": 23,
   "metadata": {},
   "outputs": [
    {
     "name": "stdout",
     "output_type": "stream",
     "text": [
      "FOR loop time: 4.396159887313843\n",
      "List comprehension time: 2.7547993659973145\n"
     ]
    }
   ],
   "source": [
    "# Let's check the time difference between a for loop and list comprehension building a new list\n",
    "import time\n",
    "\n",
    "iterations = 100000000\n",
    "\n",
    "# For loop\n",
    "start = time.time() # saving time at the start\n",
    "myList = []\n",
    "for i in range(iterations):\n",
    "    myList.append(i+1)\n",
    "end = time.time()\n",
    "print(f\"FOR loop time: {end-start}\")\n",
    "\n",
    "# List comprehension\n",
    "start = time.time()\n",
    "myList = [i+1 for i in range(iterations)]\n",
    "end = time.time()\n",
    "print(f\"List comprehension time: {end-start}\")"
   ]
  },
  {
   "cell_type": "markdown",
   "metadata": {},
   "source": [
    "We can also filter numbers as we did before as a **List Comprehension**:"
   ]
  },
  {
   "cell_type": "code",
   "execution_count": 24,
   "metadata": {},
   "outputs": [
    {
     "name": "stdout",
     "output_type": "stream",
     "text": [
      "[2, 4, 6, 8, 10]\n"
     ]
    }
   ],
   "source": [
    "# Let's filter out the odd numbers to get the even numbers\n",
    "l1 = [1, 2, 3, 4, 5, 6, 7, 8, 9, 10]\n",
    "\n",
    "l2 = [n for n in l1 if n % 2 == 0]\n",
    "print(l2)"
   ]
  },
  {
   "cell_type": "markdown",
   "metadata": {},
   "source": [
    "And **nested for loops** as a **List Comprehension**:"
   ]
  },
  {
   "cell_type": "code",
   "execution_count": 25,
   "metadata": {},
   "outputs": [
    {
     "name": "stdout",
     "output_type": "stream",
     "text": [
      "[1, 2, 3, 4, 5, 6, 7, 8, 9]\n"
     ]
    }
   ],
   "source": [
    "# Let's flatten the multi-dimension list\n",
    "\n",
    "l1 = [[1,2,3], [4,5,6], [7,8,9]]\n",
    "\n",
    "l2 = [num2 for num1 in l1 for num2 in num1]\n",
    "print(l2)"
   ]
  },
  {
   "cell_type": "markdown",
   "metadata": {},
   "source": []
  }
 ],
 "metadata": {
  "kernelspec": {
   "display_name": "pythonic-chemistry",
   "language": "python",
   "name": "python3"
  },
  "language_info": {
   "codemirror_mode": {
    "name": "ipython",
    "version": 3
   },
   "file_extension": ".py",
   "mimetype": "text/x-python",
   "name": "python",
   "nbconvert_exporter": "python",
   "pygments_lexer": "ipython3",
   "version": "3.10.12"
  }
 },
 "nbformat": 4,
 "nbformat_minor": 2
}
