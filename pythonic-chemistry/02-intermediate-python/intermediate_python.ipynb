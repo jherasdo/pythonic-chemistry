{
 "cells": [
  {
   "cell_type": "markdown",
   "metadata": {},
   "source": [
    "# **Intermediate Python**"
   ]
  },
  {
   "cell_type": "markdown",
   "metadata": {},
   "source": [
    "## 1.0 Introduction"
   ]
  },
  {
   "cell_type": "markdown",
   "metadata": {},
   "source": [
    "Now that we already know how to set variables, conditional statements (e.g., if, else) and iterable structures (e.g., lists, dictionaries, tuples), it is time to learn control structures like **for** and **while**. In general, control structures enable the programmer to determine the order in which programmatic statements are executed. One of those structures are the **Loops**, which allows you to repeat one or more statements until some **condition** becomes true. Note, that this type of control statement is what makes computers so valuable. A computer can repeatedly execute the same instruction over-and-over again without getting bored with the repetition. \n",
    "\n",
    "Then, we will dive deeper into **best programming practices** introducing how to implement functions in Python. In general, it is a good practice to write functions that are simple and specific for one task. For instances, calculating the mean from a list of values, get the formula of a chemical compound or even opening a csv file.\n",
    "\n",
    "Finally, for this **Intermediate Python** lecture we will introduce you to the concepts of **Object-oriented programming (OOP)** which is basically a method of structuring a programm by bundling related properties and behaviors into individual **objects**. "
   ]
  },
  {
   "cell_type": "markdown",
   "metadata": {},
   "source": [
    "## 2.0 Control Structures"
   ]
  },
  {
   "cell_type": "markdown",
   "metadata": {},
   "source": [
    "In Python there are two kinds of loops available **for loop** and **while loop**. The loop is a set of statements that are used to execute a set of more tha one time. \n",
    "\n",
    "FIGURE OF FOR AND WHILE LOOP"
   ]
  },
  {
   "cell_type": "markdown",
   "metadata": {},
   "source": [
    "### 2.1 WHILE LOOP"
   ]
  },
  {
   "cell_type": "code",
   "execution_count": 4,
   "metadata": {},
   "outputs": [
    {
     "name": "stdout",
     "output_type": "stream",
     "text": [
      "Counter: 0\n",
      "Counter: 1\n",
      "Counter: 2\n",
      "Counter: 3\n",
      "Counter: 4\n"
     ]
    }
   ],
   "source": [
    "# Let's start with a simple while loop\n",
    "counter = 0\n",
    "\n",
    "while counter < 5:\n",
    "    print(f\"Counter: {counter}\")\n",
    "    counter += 1"
   ]
  },
  {
   "cell_type": "markdown",
   "metadata": {},
   "source": [
    "**Break** statement is particularly useful for exiting the loop when a certain condition is met, even if the main loop condition remains true. This allows for more control over when to stop the loop, which is helpful in situations like searching for particular element in a sequence or stopping the loop based on user input."
   ]
  },
  {
   "cell_type": "code",
   "execution_count": 5,
   "metadata": {},
   "outputs": [
    {
     "name": "stdout",
     "output_type": "stream",
     "text": [
      "Counter: 0\n",
      "Counter: 1\n",
      "Counter: 2\n",
      "Counter: 3\n",
      "Counter: 4\n",
      "Counter: 5\n"
     ]
    }
   ],
   "source": [
    "# Let's incorporate the break statement\n",
    "counter = 0\n",
    "\n",
    "while counter < 10:\n",
    "    print(f\"Counter: {counter}\")\n",
    "    if counter == 5:\n",
    "        break \n",
    "    counter += 1"
   ]
  },
  {
   "cell_type": "markdown",
   "metadata": {},
   "source": [
    "**Continue** statement, like the break statement, is used to control the loop execution. However, instead of terminating the loop, the continue statement skips the remaining part of the loop body for the current interation and jumps to the next iteration, effectively continuing with the loop. This is helpful in situations where you want to skip specific iterations, such as when filtering out certain values or processing data conditionally."
   ]
  },
  {
   "cell_type": "code",
   "execution_count": 6,
   "metadata": {},
   "outputs": [
    {
     "name": "stdout",
     "output_type": "stream",
     "text": [
      "Counter: 1\n",
      "Counter: 3\n",
      "Counter: 5\n",
      "Counter: 7\n",
      "Counter: 9\n"
     ]
    }
   ],
   "source": [
    "# Let's do a while loop with continue statement\n",
    "counter = 0\n",
    "\n",
    "while counter < 10:\n",
    "    counter += 1\n",
    "    if counter % 2 == 0:\n",
    "        continue\n",
    "    print(f\"Counter: {counter}\")\n"
   ]
  },
  {
   "cell_type": "markdown",
   "metadata": {},
   "source": [
    "It is possible to combine while loops with if-else statements, which enables you to add conditional control structures within the loop, allowing for complex decision-making scenarios during iteration. This technique can be advanteguous for numerous tasks, such as validating user input, filtering data, or controlling the flow of execution based on certain conditions."
   ]
  },
  {
   "cell_type": "code",
   "execution_count": 7,
   "metadata": {},
   "outputs": [
    {
     "name": "stdout",
     "output_type": "stream",
     "text": [
      "1 is odd!\n",
      "2 is even!\n",
      "3 is odd!\n",
      "4 is even!\n",
      "5 is odd!\n",
      "6 is even!\n",
      "7 is odd!\n",
      "8 is even!\n",
      "9 is odd!\n",
      "10 is even!\n"
     ]
    }
   ],
   "source": [
    "# Let's do a while loop with if-else statements\n",
    "number = 1\n",
    "\n",
    "while number <= 10:\n",
    "    if number % 2 == 0:\n",
    "        print(f\"{number} is even!\")\n",
    "    else:\n",
    "        print(f\"{number} is odd!\")\n",
    "    number += 1"
   ]
  },
  {
   "cell_type": "markdown",
   "metadata": {},
   "source": [
    "**EXERCISE** Now is your time! Write a while loop that is able to convert Celsius temperatures to Fahrenheit from `celsius = 42 ºC` until celsius variables reaches the lower bound of `-100 ºC`\n",
    "\n",
    "The conversion formula is: $F = C + \\frac{9}{5} + 32$"
   ]
  },
  {
   "cell_type": "code",
   "execution_count": 1,
   "metadata": {},
   "outputs": [
    {
     "name": "stdout",
     "output_type": "stream",
     "text": [
      "42ºc = 107.6ºF\n",
      "32ºc = 89.6ºF\n",
      "22ºc = 71.6ºF\n",
      "12ºc = 53.6ºF\n",
      "2ºc = 35.6ºF\n",
      "-8ºc = 17.6ºF\n",
      "-18ºc = -0.3999999999999986ºF\n",
      "-28ºc = -18.4ºF\n",
      "-38ºc = -36.400000000000006ºF\n",
      "-48ºc = -54.400000000000006ºF\n",
      "-58ºc = -72.4ºF\n",
      "-68ºc = -90.4ºF\n",
      "-78ºc = -108.4ºF\n",
      "-88ºc = -126.4ºF\n",
      "-98ºc = -144.4ºF\n"
     ]
    }
   ],
   "source": [
    "#TODO: Write a while loop that converts from celsius to Fahrenheit\n",
    "\n",
    "celsius = 42\n",
    "\n",
    "while celsius >= -100:\n",
    "    fahrenheit = (celsius * 9/5) + 32\n",
    "    print(f\"{celsius}ºc = {fahrenheit}ºF\")\n",
    "    celsius -= 10 # Decreate by 10 degrees"
   ]
  },
  {
   "cell_type": "markdown",
   "metadata": {},
   "source": [
    "### 2.2 FOR LOOP"
   ]
  },
  {
   "cell_type": "markdown",
   "metadata": {},
   "source": [
    "Let's break down the structure of a **for** loop in Python. A typical for loop in Python follows this general format:\n",
    "\n",
    "for `variable` in `sequence`:\\\n",
    "    $\\qquad$# Block of code to be executed"
   ]
  },
  {
   "cell_type": "code",
   "execution_count": 8,
   "metadata": {},
   "outputs": [
    {
     "name": "stdout",
     "output_type": "stream",
     "text": [
      "1\n",
      "2\n",
      "3\n",
      "4\n",
      "5\n"
     ]
    }
   ],
   "source": [
    "# Lets do a for loop using a list as sequence\n",
    "example_list = [1, 2, 3, 4, 5]\n",
    "\n",
    "for item in example_list:\n",
    "    print(item)"
   ]
  },
  {
   "cell_type": "code",
   "execution_count": 9,
   "metadata": {},
   "outputs": [
    {
     "name": "stdout",
     "output_type": "stream",
     "text": [
      "key1 value1\n",
      "key2 value2\n",
      "key3 value3\n",
      "key4 value4\n"
     ]
    }
   ],
   "source": [
    "# Let's do a for loop using a dict (key: value) as iterator\n",
    "example_dict = {\"key1\": \"value1\", \"key2\": \"value2\", \"key3\": \"value3\", \"key4\": \"value4\"}\n",
    "\n",
    "for key, value in example_dict.items():\n",
    "    print(key, value)"
   ]
  },
  {
   "cell_type": "markdown",
   "metadata": {},
   "source": [
    "We can also use the **break** statement in **for** loops. Remember that the **break** statement allows you to exit the loop prematurely, effectively breaking out of it when a certain condition is met."
   ]
  },
  {
   "cell_type": "code",
   "execution_count": 12,
   "metadata": {},
   "outputs": [
    {
     "name": "stdout",
     "output_type": "stream",
     "text": [
      "1\n",
      "2\n",
      "3\n",
      "4\n"
     ]
    }
   ],
   "source": [
    "# Let's do a for loop with break statement\n",
    "example_list = [1, 2, 3, 4, 5, 6, 7, 8, 9, 10]\n",
    "\n",
    "for item in example_list:\n",
    "    if item == 5:\n",
    "        break\n",
    "    print(item)"
   ]
  },
  {
   "cell_type": "markdown",
   "metadata": {},
   "source": [
    "Now, let's filter a list based on a condition. The condition will be that the numbers must be even in this case."
   ]
  },
  {
   "cell_type": "code",
   "execution_count": 13,
   "metadata": {},
   "outputs": [
    {
     "name": "stdout",
     "output_type": "stream",
     "text": [
      "Even Numbers: [2, 4, 6, 8, 10]\n",
      "Odd Numbers: [1, 3, 5, 7, 9]\n"
     ]
    }
   ],
   "source": [
    "# Let's do a for loop with if-else conditions.\n",
    "example_list = [1, 2, 3, 4, 5, 6, 7, 8, 9, 10]\n",
    "\n",
    "even_numbers = []\n",
    "odd_numbers = []\n",
    "for item in example_list:\n",
    "    if item % 2 == 0:\n",
    "        even_numbers.append(item)\n",
    "    else:\n",
    "        odd_numbers.append(item)\n",
    "\n",
    "print(f\"Even Numbers: {even_numbers}\")\n",
    "print(f\"Odd Numbers: {odd_numbers}\")"
   ]
  },
  {
   "cell_type": "markdown",
   "metadata": {},
   "source": [
    "We can also do, what is called **nested loops**, meaning a for loop that has another for loop inside!"
   ]
  },
  {
   "cell_type": "code",
   "execution_count": 16,
   "metadata": {},
   "outputs": [
    {
     "name": "stdout",
     "output_type": "stream",
     "text": [
      "Row: [1, 2]\n",
      "Item: 1\n",
      "Item: 2\n",
      "Row: [3, 4]\n",
      "Item: 3\n",
      "Item: 4\n",
      "Row: [5, 6]\n",
      "Item: 5\n",
      "Item: 6\n",
      "Row: [7, 8]\n",
      "Item: 7\n",
      "Item: 8\n"
     ]
    }
   ],
   "source": [
    "# Let's do nested loops\n",
    "example_array = [[1, 2], [3, 4], [5, 6], [7, 8]]\n",
    "\n",
    "for row in example_array:\n",
    "    print(f\"Row: {row}\")\n",
    "    for item in row:\n",
    "        print(f\"Item: {item}\")"
   ]
  },
  {
   "cell_type": "markdown",
   "metadata": {},
   "source": [
    "**EXERCISE** Let's simulate a pH measuring device that is able to tell from a list of solutions whether the pH is acidic, alkaline or neutral.\n",
    "\n",
    "**HINT**: You need to start from this list of ph_values (2.0, 4.5, 6.8, 7.0, 7.2, 8.0, 9.3)"
   ]
  },
  {
   "cell_type": "code",
   "execution_count": 20,
   "metadata": {},
   "outputs": [
    {
     "name": "stdout",
     "output_type": "stream",
     "text": [
      "The solution with pH 2.0 is acidic.\n",
      "The solution with pH 4.5 is acidic.\n",
      "The solution with pH 6.8 is acidic.\n",
      "The solution with pH 7.0 is neutral.\n",
      "The solution with pH 7.2 is alkaline.\n",
      "The solution with pH 8.0 is alkaline.\n",
      "The solution with pH 9.3 is alkaline.\n"
     ]
    }
   ],
   "source": [
    "#TODO: Write a for loop that is able to classify the solutions into acidic, alkaline or neutral and print it.\n",
    "\n",
    "ph_values = [2.0, 4.5, 6.8, 7.0, 7.2, 8.0, 9.3]\n",
    "\n",
    "# Analyze the pH for each solution\n",
    "for ph_value in ph_values:\n",
    "    if ph_value < 7:\n",
    "        acidity = \"acidic\"\n",
    "    elif ph_value > 7:\n",
    "        acidity = \"alkaline\"\n",
    "    else:\n",
    "        acidity = \"neutral\"\n",
    "\n",
    "    print(f\"The solution with pH {ph_value} is {acidity}.\")"
   ]
  },
  {
   "cell_type": "markdown",
   "metadata": {},
   "source": [
    "## 2.3 List and Dict Comprehension"
   ]
  },
  {
   "cell_type": "markdown",
   "metadata": {},
   "source": [
    "There is an alternative way of using **for** loops in the particular cases of lists and dictionaries. For instance, list comprehension in Python is a concise way of creating lists from the ones that already exist, providing a shorter syntax.\n",
    "\n",
    "For a **for** loop:\n",
    "\n",
    "for `item` in `iterable`:\\\n",
    "    $\\qquad$ if `conditional`\\\n",
    "    $\\qquad$ $\\qquad$ `expresion`\n",
    "\n",
    "The list comprehension syntax would be:\n",
    "\n",
    "[`expresion` for `item` in `iterable` if `conditional`]"
   ]
  },
  {
   "cell_type": "code",
   "execution_count": 22,
   "metadata": {},
   "outputs": [
    {
     "name": "stdout",
     "output_type": "stream",
     "text": [
      "For loop result: [1, 4, 9, 16, 25, 36, 49, 64, 81, 100]\n",
      "List comprehension: [1, 4, 9, 16, 25, 36, 49, 64, 81, 100]\n"
     ]
    }
   ],
   "source": [
    "# Let's see a pythonic example\n",
    "\n",
    "## Using a for loop\n",
    "example_list_1 = []\n",
    "for i in range(1, 11):\n",
    "    a = i*i\n",
    "    example_list_1.append(a)\n",
    "print(f\"For loop result: {example_list_1}\")\n",
    "\n",
    "## Using list comprehension\n",
    "example_list_2 = [i*i for i in range(1, 11)]\n",
    "print(f\"List comprehension: {example_list_2}\")"
   ]
  },
  {
   "cell_type": "markdown",
   "metadata": {},
   "source": [
    "Usually in programming some strategies such as the **for loop** vs. a **list comprehension** might look like identicall and just a way to make syntax prettier. But in this case, it might have some implications in the efficiency of the loop."
   ]
  },
  {
   "cell_type": "code",
   "execution_count": 23,
   "metadata": {},
   "outputs": [
    {
     "name": "stdout",
     "output_type": "stream",
     "text": [
      "FOR loop time: 4.396159887313843\n",
      "List comprehension time: 2.7547993659973145\n"
     ]
    }
   ],
   "source": [
    "# Let's check the time difference between a for loop and list comprehension building a new list\n",
    "import time\n",
    "\n",
    "iterations = 100000000\n",
    "\n",
    "# For loop\n",
    "start = time.time() # saving time at the start\n",
    "myList = []\n",
    "for i in range(iterations):\n",
    "    myList.append(i+1)\n",
    "end = time.time()\n",
    "print(f\"FOR loop time: {end-start}\")\n",
    "\n",
    "# List comprehension\n",
    "start = time.time()\n",
    "myList = [i+1 for i in range(iterations)]\n",
    "end = time.time()\n",
    "print(f\"List comprehension time: {end-start}\")"
   ]
  },
  {
   "cell_type": "markdown",
   "metadata": {},
   "source": [
    "We can also filter numbers as we did before as a **List Comprehension**:"
   ]
  },
  {
   "cell_type": "code",
   "execution_count": 24,
   "metadata": {},
   "outputs": [
    {
     "name": "stdout",
     "output_type": "stream",
     "text": [
      "[2, 4, 6, 8, 10]\n"
     ]
    }
   ],
   "source": [
    "# Let's filter out the odd numbers to get the even numbers\n",
    "l1 = [1, 2, 3, 4, 5, 6, 7, 8, 9, 10]\n",
    "\n",
    "l2 = [n for n in l1 if n % 2 == 0]\n",
    "print(l2)"
   ]
  },
  {
   "cell_type": "markdown",
   "metadata": {},
   "source": [
    "And **nested for loops** as a **List Comprehension**:"
   ]
  },
  {
   "cell_type": "code",
   "execution_count": 25,
   "metadata": {},
   "outputs": [
    {
     "name": "stdout",
     "output_type": "stream",
     "text": [
      "[1, 2, 3, 4, 5, 6, 7, 8, 9]\n"
     ]
    }
   ],
   "source": [
    "# Let's flatten the multi-dimension list\n",
    "\n",
    "l1 = [[1,2,3], [4,5,6], [7,8,9]]\n",
    "\n",
    "l2 = [num2 for num1 in l1 for num2 in num1]\n",
    "print(l2)"
   ]
  },
  {
   "cell_type": "markdown",
   "metadata": {},
   "source": [
    "A **dictionary comprehension**, in contrast, to list comprehension, needs two expressions separated with a colon followed by the usual **for** and **if** clauses. When the comprehension is run, the resulting key-value elements are inserted in the new dictionary in the order they are produced.\n",
    "\n",
    "Syntax:\n",
    "\n",
    "{`key` : `value` for `key`, `value` in `iterable` if `conditional`}"
   ]
  },
  {
   "cell_type": "code",
   "execution_count": 29,
   "metadata": {},
   "outputs": [
    {
     "name": "stdout",
     "output_type": "stream",
     "text": [
      "{'1': 1, '2': 4, '3': 9, '4': 16, '5': 25, '6': 36, '7': 49, '8': 64, '9': 81, '10': 100}\n"
     ]
    }
   ],
   "source": [
    "# Let's do a simple example to find the square of numbers\n",
    "d1 = {f'{n}':n*n for n in range(1, 11)}\n",
    "print(d1)"
   ]
  },
  {
   "cell_type": "code",
   "execution_count": 30,
   "metadata": {},
   "outputs": [
    {
     "name": "stdout",
     "output_type": "stream",
     "text": [
      "{'shape': 'apple', 'fruit': 'circle', 'color': 'red'}\n"
     ]
    }
   ],
   "source": [
    "# Let's itererate through two sets using dictionary comprehension\n",
    "d1 = {\"color\", \"shape\", \"fruit\"}\n",
    "d2 = {\"red\", \"circle\", \"apple\"}\n",
    "\n",
    "d3 = {k:v for k, v in zip(d1, d2)}\n",
    "print(d3)"
   ]
  },
  {
   "cell_type": "markdown",
   "metadata": {},
   "source": [
    "**EXERCISE** Now is your time! Convert the Celsius to Fahrenheit exercise, but now using list comprehension!"
   ]
  },
  {
   "cell_type": "code",
   "execution_count": 31,
   "metadata": {},
   "outputs": [
    {
     "name": "stdout",
     "output_type": "stream",
     "text": [
      "[77.0, 86.0, 59.0, 50.0, 95.0]\n"
     ]
    }
   ],
   "source": [
    "# List of temperature in Celsius\n",
    "temps_in_celsius = [25, 30, 15, 10, 35]\n",
    "\n",
    "# Using list comprehension to convert temperature to Fahrenheit\n",
    "temps_in_fahrenheit = [(temp * 9/5) + 32 for temp in temps_in_celsius]\n",
    "\n",
    "print(temps_in_fahrenheit)"
   ]
  },
  {
   "cell_type": "markdown",
   "metadata": {},
   "source": [
    "**EXERCISE** Let's practice a bit of **dictionary comprehension** by contructing a dictionary with chemical symbols as key and the atomic number as value."
   ]
  },
  {
   "cell_type": "code",
   "execution_count": 33,
   "metadata": {},
   "outputs": [
    {
     "name": "stdout",
     "output_type": "stream",
     "text": [
      "{'H': 1, 'O': 8, 'C': 6, 'N': 7}\n"
     ]
    }
   ],
   "source": [
    "# List of chemical symbols\n",
    "symbols = ['H', 'O', 'C', 'N']\n",
    "\n",
    "# List of corresponding atomic numbers\n",
    "atomic_numbers = [1, 8, 6, 7]\n",
    "\n",
    "# Using dict comprehension to create a symbo-to-atomic number mapping\n",
    "symbol_to_atomic_number = {symbol: atomic_numbers for symbol, atomic_numbers in zip(symbols, atomic_numbers)}\n",
    "\n",
    "print(symbol_to_atomic_number)"
   ]
  },
  {
   "cell_type": "markdown",
   "metadata": {},
   "source": [
    "# 3.0 Functions in Python"
   ]
  },
  {
   "cell_type": "markdown",
   "metadata": {},
   "source": [
    "What is a function? A function is a block of code that performs a specific task as we will see in this section.\n",
    "\n",
    "**Syntax:**\n",
    "\n",
    "`def` function_name(arguments):\\\n",
    "$\\qquad$ # function body\\\n",
    "$\\qquad$ `return` \n"
   ]
  },
  {
   "cell_type": "code",
   "execution_count": 34,
   "metadata": {},
   "outputs": [
    {
     "name": "stdout",
     "output_type": "stream",
     "text": [
      "Hello! Oliver\n"
     ]
    }
   ],
   "source": [
    "# Let's do a function that will say Hello to a given name\n",
    "\n",
    "# First, we define the function\n",
    "def greet(name):\n",
    "    print(f\"Hello! {name}\")\n",
    "\n",
    "# Secondly, we execute it!\n",
    "greet(name=\"Oliver\")"
   ]
  },
  {
   "cell_type": "code",
   "execution_count": 37,
   "metadata": {},
   "outputs": [
    {
     "name": "stdout",
     "output_type": "stream",
     "text": [
      "The result to add 12 + 3 = 15\n",
      "The result of 2*2 = 4\n"
     ]
    }
   ],
   "source": [
    "# Let's do a collection of simple functions to get familiar with this syntax\n",
    "def add_numbers(num1, num2):\n",
    "    result = num1 + num2\n",
    "    return result\n",
    "\n",
    "def find_square(num):\n",
    "    result = num * num\n",
    "    return result\n",
    "\n",
    "# Let's call them\n",
    "add_res = add_numbers(12, 3)\n",
    "print(f\"The result to add 12 + 3 = {add_res}\")\n",
    "\n",
    "pw_res = find_square(2)\n",
    "print(f\"The result of 2*2 = {pw_res}\")"
   ]
  },
  {
   "cell_type": "code",
   "execution_count": 39,
   "metadata": {},
   "outputs": [
    {
     "name": "stdout",
     "output_type": "stream",
     "text": [
      "The pH of a solution with H+ concentration of 0.001 is 3.0\n"
     ]
    }
   ],
   "source": [
    "# Let's do some functions related to chemistry\n",
    "\n",
    "import math\n",
    "\n",
    "def calculate_ph(h_concetration):\n",
    "    ph = -math.log10(h_concetration)\n",
    "    return ph\n",
    "\n",
    "ph = calculate_ph(h_concetration=0.001)\n",
    "\n",
    "print(f\"The pH of a solution with H+ concentration of 0.001 is {ph}\")"
   ]
  },
  {
   "cell_type": "markdown",
   "metadata": {},
   "source": [
    "**EXERCISE** Now is your time! Write a function that uses the **Ideal Gas Law** to calculate the pressure of an ideal gas."
   ]
  },
  {
   "cell_type": "code",
   "execution_count": 40,
   "metadata": {},
   "outputs": [
    {
     "name": "stdout",
     "output_type": "stream",
     "text": [
      "The pressure of the Ideal gas is 0.7831398151499999 atm\n"
     ]
    }
   ],
   "source": [
    "# Let's code the ideal gas equation as a function\n",
    "\n",
    "def calculate_ideal_gas_pressure(moles, temperature, volume, gas_constant=0.08206):\n",
    "    pressure = (moles * gas_constant * temperature) / volume\n",
    "    return pressure\n",
    "\n",
    "# Calculate the pressure if moles=0.1272467 , temperature=300K and volume=4.00L\n",
    "\n",
    "pressure_res = calculate_ideal_gas_pressure(moles=0.1272467, temperature=300, volume=4.00) \n",
    "\n",
    "print(f\"The pressure of the Ideal gas is {pressure_res} atm\")"
   ]
  },
  {
   "cell_type": "markdown",
   "metadata": {},
   "source": [
    "## 4.0 Object-oriented Programming (OOP)"
   ]
  },
  {
   "cell_type": "markdown",
   "metadata": {},
   "source": [
    "Object-oriented programming is a programming paradigm that provides a means of structuring programs so that properties and behaviours are bundled into individual objects. For instance, and object could represent a molecule with properties like formula, boiling point, melting point, etc."
   ]
  },
  {
   "cell_type": "markdown",
   "metadata": {},
   "source": [
    "### 4.1 How to define a Class in Python"
   ]
  },
  {
   "cell_type": "markdown",
   "metadata": {},
   "source": [
    "In python a class is defined by using the `class` keyword followed by its name and a colon. Then, we define the method `.__init__()` to declare the attributes. "
   ]
  },
  {
   "cell_type": "code",
   "execution_count": 42,
   "metadata": {},
   "outputs": [],
   "source": [
    "# Let's do an example for a given molecule\n",
    "\n",
    "class Molecule:\n",
    "    def __init__(self, formula, boiling_point, melting_point):\n",
    "        self.formula = formula\n",
    "        self.boiling_point = boiling_point\n",
    "        self.melting_point = melting_point\n",
    "\n",
    "# Testing the new class\n",
    "acetic_acid = Molecule(formula=\"CH3COOH\", boiling_point=391.2, melting_point=290.0)"
   ]
  },
  {
   "cell_type": "markdown",
   "metadata": {},
   "source": [
    "In the body of `.__init__()`, there are three statements using the `self` variable. This makes the attributes accessible either from inside and outside of the class. \n",
    "\n",
    "Let's see some examples!"
   ]
  },
  {
   "cell_type": "code",
   "execution_count": 43,
   "metadata": {},
   "outputs": [
    {
     "name": "stdout",
     "output_type": "stream",
     "text": [
      "CH3COOH\n"
     ]
    }
   ],
   "source": [
    "# Printing the formula of acetic acid from outside\n",
    "print(acetic_acid.formula)"
   ]
  },
  {
   "cell_type": "markdown",
   "metadata": {},
   "source": [
    "To see the effect of `self` from inside we need to re-implement our class but with some additional methods inside."
   ]
  },
  {
   "cell_type": "code",
   "execution_count": 48,
   "metadata": {},
   "outputs": [
    {
     "name": "stdout",
     "output_type": "stream",
     "text": [
      "The melting point of CH3COOH in Kelvin is 290.0 K and in Celsius 16.85 ºC\n"
     ]
    }
   ],
   "source": [
    "# New Molecule class\n",
    "\n",
    "class Molecule:\n",
    "    def __init__(self, formula, boiling_point, melting_point):\n",
    "        self.formula = formula\n",
    "        self.boiling_point = boiling_point\n",
    "        self.melting_point = melting_point\n",
    "\n",
    "        # Temperature in celsius\n",
    "        self.boiling_point_c = self._kelvin_to_celsius(temperature=self.boiling_point)\n",
    "        self.melting_point_c = self._kelvin_to_celsius(temperature=self.melting_point)\n",
    "\n",
    "    def _kelvin_to_celsius(self, temperature):\n",
    "        result = temperature - 273.15\n",
    "        return round(result, 2)\n",
    "\n",
    "# Testing the new class\n",
    "acetic_acid = Molecule(formula=\"CH3COOH\", boiling_point=391.2, melting_point=290.0)\n",
    "\n",
    "print(f\"The melting point of {acetic_acid.formula} in Kelvin is {acetic_acid.melting_point} K and in Celsius {acetic_acid.melting_point_c} ºC\")"
   ]
  },
  {
   "cell_type": "markdown",
   "metadata": {},
   "source": [
    "Let's go to a bit more complicated concept, which is `inheritance`. Inheritance is a fundamental concept in object-oriented programming (OOP) that allows a class (known as subclass) to inherit attributes and methods from another class (known as a superclass). This promotes code reuse and allows for the creation of specialized classes that build upon existing ones.\n",
    "\n",
    "For intances, in chemistry, we might have a generic class for a chemical compound. From there, we can create a specialized classes for specific types of compounds, such as organic compounds or inorganic compounds, which inherit properties from the generic compound class.\n",
    "\n",
    "Let's see some code!"
   ]
  },
  {
   "cell_type": "code",
   "execution_count": 49,
   "metadata": {},
   "outputs": [],
   "source": [
    "# Subclass Compound\n",
    "\n",
    "class Compound:\n",
    "    def __init__(self, name, formula, molar_mass):\n",
    "        self.name = name\n",
    "        self.formula = formula\n",
    "        self.molar_mass = molar_mass\n",
    "\n",
    "    def get_properties(self):\n",
    "        return f\"Name: {self.name}, Formula: {self.formula}, Molar Mass: {self.molar_mass} g/mol\"\n"
   ]
  },
  {
   "cell_type": "code",
   "execution_count": 50,
   "metadata": {},
   "outputs": [],
   "source": [
    "# Superclass for Organic compound\n",
    "\n",
    "class OrganicCompound(Compound):\n",
    "    def __init__(self, name, formula, molar_mass, functional_group):\n",
    "        super().__init__(name, formula, molar_mass)\n",
    "        self.functional_group = functional_group\n",
    "\n",
    "    def get_properties(self):\n",
    "        base_properties = super().get_properties()\n",
    "        return f\"{base_properties}, Functional Group: {self.functional_group}\""
   ]
  },
  {
   "cell_type": "code",
   "execution_count": 51,
   "metadata": {},
   "outputs": [],
   "source": [
    "# Superclass of Inorganic compound\n",
    "\n",
    "class InorganicCompound(Compound):\n",
    "    def __init__(self, name, formula, molar_mass, metal_element):\n",
    "        super().__init__(name, formula, molar_mass)\n",
    "        self.metal_element = metal_element\n",
    "\n",
    "    def get_properties(self):\n",
    "        base_properties = super().get_properties()\n",
    "        return f\"{base_properties}, Metal Element: {self.metal_element}\""
   ]
  },
  {
   "cell_type": "markdown",
   "metadata": {},
   "source": [
    "Let's test this out!"
   ]
  },
  {
   "cell_type": "code",
   "execution_count": 54,
   "metadata": {},
   "outputs": [
    {
     "name": "stdout",
     "output_type": "stream",
     "text": [
      "2-Acetoxybenzoic acid\n",
      "180.16\n",
      "Name: 2-Acetoxybenzoic acid, Formula: CH3COOC6H4COOH, Molar Mass: 180.16 g/mol, Functional Group: COOH\n"
     ]
    }
   ],
   "source": [
    "# Let's use the organic compound with aspirin\n",
    "\n",
    "aspirin = OrganicCompound(name=\"2-Acetoxybenzoic acid\", formula=\"CH3COOC6H4COOH\", molar_mass=180.16, functional_group=\"COOH\")\n",
    "\n",
    "# We can access attributes from the Compound subclass\n",
    "print(aspirin.name)\n",
    "print(aspirin.molar_mass)\n",
    "\n",
    "# And We have tunned a bit the get_properties method for organic compounds\n",
    "print(aspirin.get_properties())"
   ]
  },
  {
   "cell_type": "code",
   "execution_count": 56,
   "metadata": {},
   "outputs": [
    {
     "name": "stdout",
     "output_type": "stream",
     "text": [
      "Magnetite\n",
      "231.5326\n",
      "Name: Magnetite, Formula: Fe3O4, Molar Mass: 231.5326 g/mol, Metal Element: Fe\n"
     ]
    }
   ],
   "source": [
    "# Let's use the organic compound with aspirin\n",
    "\n",
    "iron = InorganicCompound(name=\"Magnetite\", formula=\"Fe3O4\", molar_mass=231.5326 , metal_element=\"Fe\")\n",
    "\n",
    "# We can access attributes from the Compound subclass\n",
    "print(iron.name)\n",
    "print(iron.molar_mass)\n",
    "\n",
    "# And We have tunned a bit the get_properties method for an inorganic compounds\n",
    "print(iron.get_properties())"
   ]
  },
  {
   "cell_type": "markdown",
   "metadata": {},
   "source": [
    "**EXERCISE** Now is your time! You are gonna implement a class named `ChemicalReaction` that gets the `conditions` as input. Then, you need to include inner methods that allows to add `reactants`, `products`, `describe the reaction` and check if a compound is involved in the reaction."
   ]
  },
  {
   "cell_type": "code",
   "execution_count": 83,
   "metadata": {},
   "outputs": [],
   "source": [
    "# Let's implement here that class\n",
    "class ChemicalReaction:\n",
    "    def __init__(self, conditions):\n",
    "        self.conditions = conditions\n",
    "        self.reactants = []\n",
    "        self.products = []\n",
    "\n",
    "    def add_reactant(self, reactant):\n",
    "        self.reactants.append(reactant)\n",
    "        return\n",
    "    \n",
    "    def add_product(self, product):\n",
    "        self.products.append(product)\n",
    "        return\n",
    "    \n",
    "    def describe_reaction(self):\n",
    "        reactants = \" + \".join(self.reactants)\n",
    "        products = \" + \".join(self.products)\n",
    "        return f\"Reaction: {reactants} -> {products} and Conditions: {self.conditions}\"\n",
    "    \n",
    "    def is_compound_involved(self, compound):\n",
    "        if compound in self.reactants:\n",
    "            return True\n",
    "        elif compound in self.products:\n",
    "            return True\n",
    "        else:\n",
    "            return False"
   ]
  },
  {
   "cell_type": "markdown",
   "metadata": {},
   "source": [
    "Check your implementation with the following code!"
   ]
  },
  {
   "cell_type": "code",
   "execution_count": 84,
   "metadata": {},
   "outputs": [
    {
     "name": "stdout",
     "output_type": "stream",
     "text": [
      "Reaction: H2 + O2 -> H2O and Conditions: Room temperature, atmospheric pressure\n",
      "False\n",
      "True\n"
     ]
    }
   ],
   "source": [
    "# Create a chemical reaction\n",
    "reaction = ChemicalReaction(conditions=\"Room temperature, atmospheric pressure\")\n",
    "\n",
    "# Add reactants and products\n",
    "reaction.add_reactant(\"H2\")\n",
    "reaction.add_reactant(\"O2\")\n",
    "reaction.add_product(\"H2O\")\n",
    "\n",
    "# Describe the reaction\n",
    "print(reaction.describe_reaction())  # Output: \"Reaction: H2 + O2 -> H2O and Conditions: Room temperature, atmospheric pressure\"\n",
    "\n",
    "# Check if a compound is involved\n",
    "print(reaction.is_compound_involved(\"CO2\"))  # Output: False\n",
    "print(reaction.is_compound_involved(\"H2O\"))  # Output: True\n"
   ]
  }
 ],
 "metadata": {
  "kernelspec": {
   "display_name": "pythonic-chemistry",
   "language": "python",
   "name": "python3"
  },
  "language_info": {
   "codemirror_mode": {
    "name": "ipython",
    "version": 3
   },
   "file_extension": ".py",
   "mimetype": "text/x-python",
   "name": "python",
   "nbconvert_exporter": "python",
   "pygments_lexer": "ipython3",
   "version": "3.10.12"
  }
 },
 "nbformat": 4,
 "nbformat_minor": 2
}
