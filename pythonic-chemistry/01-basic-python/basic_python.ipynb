{
 "cells": [
  {
   "cell_type": "markdown",
   "metadata": {},
   "source": [
    "# **Introduction to Basic Python**"
   ]
  },
  {
   "cell_type": "markdown",
   "metadata": {},
   "source": [
    "## 1.0 Introduction"
   ]
  },
  {
   "cell_type": "markdown",
   "metadata": {},
   "source": [
    "Python is an interpreted, object-oriented, high-level programming language with dynamic semantics. Its high-level built in data structures, combined with dynamic typing and dynamic binding, making it very attractive for Rapid Application Development, as well as for use as scripting or glue language to connect existing components together.\n",
    "\n",
    "Python is simple with an easy to learn syntax that emphasizes readability and therefore reduces the cost of program maintenance. Python supports modules and packages, which encourages program modularity and code re-use.\n",
    "\n",
    "The python interpreter and the extensive standard library are available in source or binary form without charge for all major platforms, and can be freely distributed."
   ]
  },
  {
   "cell_type": "markdown",
   "metadata": {},
   "source": [
    "## 2.0 Variables and Data Types"
   ]
  },
  {
   "cell_type": "markdown",
   "metadata": {},
   "source": [
    "What are variables in Python?\n",
    "\n",
    "Variables and data types in Python as the name suggests are the values that vary. In a programming language, a variable is a memory location where you store a value. The value that you have stored my change in the future according to the specifications.\n",
    "\n",
    "Then, a Python variable is created as soon as the value is assigned to it. It does not need any additional commands to declare a variable in Python.\n",
    "\n",
    "Let's see an example!"
   ]
  },
  {
   "cell_type": "code",
   "execution_count": 4,
   "metadata": {},
   "outputs": [
    {
     "name": "stdout",
     "output_type": "stream",
     "text": [
      "The variable with name pi is equal to 3.14\n"
     ]
    }
   ],
   "source": [
    "# Let's declare a variable named pi with value 3.14 and print it\n",
    "pi = 3.14\n",
    "print(f\"The variable with name pi is equal to {pi}\")"
   ]
  },
  {
   "cell_type": "markdown",
   "metadata": {},
   "source": [
    "In this case, we have assigned the number 3.14 to the variable with name pi. Let's see other types of variables in Python:"
   ]
  },
  {
   "cell_type": "code",
   "execution_count": 5,
   "metadata": {},
   "outputs": [],
   "source": [
    "# Variables in Python\n",
    "\n",
    "string_color = \"Red\"  # This is called a string, usually to store text data\n",
    "\n",
    "num_of_cards = 10     # This is an integer, meaning numeric variables that are complete values\n",
    "\n",
    "pi = 3.14             # This is a float, is also a numeric variable but in this case it has decimals\n",
    "\n",
    "python_is_cool = True # This is a boolean which only allows for True and False"
   ]
  },
  {
   "cell_type": "markdown",
   "metadata": {},
   "source": [
    "Remember that in the `Introduction` we have said that Python is dynamically typed and `high-level`. The next example show cases this convenient property of Python that is not that easy in other languages."
   ]
  },
  {
   "cell_type": "code",
   "execution_count": 6,
   "metadata": {},
   "outputs": [
    {
     "name": "stdout",
     "output_type": "stream",
     "text": [
      "The molecular weight of H2O is 18.01528\n",
      "The molecular weight of H2O is eighteen\n"
     ]
    }
   ],
   "source": [
    "# Python is dynamically typed\n",
    "\n",
    "# Declare variables\n",
    "chemical_formula = \"H2O\"\n",
    "molecular_weight = 18.01528\n",
    "print(f\"The molecular weight of {chemical_formula} is {molecular_weight}\")\n",
    "\n",
    "# Change the type of a variable\n",
    "molecular_weight = \"eighteen\"\n",
    "print(f\"The molecular weight of {chemical_formula} is {molecular_weight}\")"
   ]
  },
  {
   "cell_type": "markdown",
   "metadata": {},
   "source": [
    "Best practices in Python are established in PEP8 (Python Enhancement Proposal) which is a programming style guide. One of the requirements to follow PEP8 guidelines is that variables are written in SNAKE_CASE.\n",
    "\n",
    "Snake case is a naming convention in which each space is replaced with an underscore (\"_\")."
   ]
  },
  {
   "cell_type": "markdown",
   "metadata": {},
   "source": [
    "### 2.1 Numerical and String Operations"
   ]
  },
  {
   "cell_type": "markdown",
   "metadata": {},
   "source": [
    "Now that we have learned how to `declare` Python variables and the kinds of variables that we can play around (e.g., string, integer, float, bool). It is time to do some operations with them."
   ]
  },
  {
   "cell_type": "markdown",
   "metadata": {},
   "source": [
    "There you have a table with all the arithmetic operators in Python:\n",
    "\n",
    "| Opertor    | Name            | Example |\n",
    "| ---------- | ----------------|---------|\n",
    "| +          | Addition        | x + y   |\n",
    "| -          | Substraction    | x - y   |\n",
    "| *          | Multiplication  | x * y   |\n",
    "| /          | Division        | x / y   |\n",
    "| %          | Modulus         | x % y   |\n",
    "| **         | Exponentiation  | x ** y  |\n",
    "| //         | Floor division  | x // y  |"
   ]
  },
  {
   "cell_type": "code",
   "execution_count": 7,
   "metadata": {},
   "outputs": [
    {
     "name": "stdout",
     "output_type": "stream",
     "text": [
      "8\n",
      "2\n",
      "10\n",
      "5.0\n",
      "0\n",
      "8\n",
      "9\n"
     ]
    }
   ],
   "source": [
    "# Addition\n",
    "add = 3 + 5\n",
    "print(add)\n",
    "\n",
    "# Substraction\n",
    "subs = 5 - 3\n",
    "print(subs)\n",
    "\n",
    "# Multiplication\n",
    "mult = 2 * 5\n",
    "print(mult)\n",
    "\n",
    "# Dividision\n",
    "div = 10 / 2\n",
    "print(div)\n",
    "\n",
    "# Modulus\n",
    "mod = 18 % 2\n",
    "print(mod)\n",
    "\n",
    "# Exponentiation\n",
    "expo = 2**3\n",
    "print(expo)\n",
    "\n",
    "# Floor division\n",
    "floor_div = 18 // 2\n",
    "print(floor_div)"
   ]
  },
  {
   "cell_type": "markdown",
   "metadata": {},
   "source": [
    "The addition (+) operator can also be used to concatenate strings:"
   ]
  },
  {
   "cell_type": "code",
   "execution_count": 11,
   "metadata": {},
   "outputs": [
    {
     "name": "stdout",
     "output_type": "stream",
     "text": [
      "Hello World !\n",
      "Hello World !\n"
     ]
    }
   ],
   "source": [
    "# Strings concatenation\n",
    "first_string = \"Hello\"\n",
    "\n",
    "second_string = \"World\"\n",
    "\n",
    "third_string = \"!\"\n",
    "\n",
    "phrase = first_string+\" \"+second_string+\" \"+third_string\n",
    "print(phrase)\n",
    "\n",
    "# Although the best way to do it is with f-formatting\n",
    "phrase = f\"{first_string} {second_string} {third_string}\"\n",
    "print(phrase)"
   ]
  },
  {
   "cell_type": "markdown",
   "metadata": {},
   "source": [
    "As you can imagine, there are more kinds of operators in Python.\n",
    "\n",
    "Here you have a table with the most essential `Assigment` operators in Python:\n",
    "\n",
    "| Opertor    | Example         | Same as   |\n",
    "| ---------- | ----------------|-----------|\n",
    "| =          | x = 5           | x = 5     |\n",
    "| +=         | x += 3          | x = x + 3 |\n",
    "| -=         | x -= 3          | x = x - 3 |\n",
    "| *=         | x *= 3          | x = x * 3 |\n",
    "| /=         | x /= 3          | x = x / 3 |\n",
    "| %=         | x %= 3          | x = x % 3 |\n",
    "| //=        | x //= 3         | x = x // 3|\n",
    "| **=        | x **= 3         | x = x ** 3|"
   ]
  },
  {
   "cell_type": "code",
   "execution_count": 20,
   "metadata": {},
   "outputs": [
    {
     "name": "stdout",
     "output_type": "stream",
     "text": [
      "5\n",
      "8\n",
      "5\n",
      "15\n",
      "5.0\n",
      "2.0\n",
      "0.0\n",
      "0.0\n"
     ]
    }
   ],
   "source": [
    "# TODO: Test the assigment operators yourself!\n",
    "\n",
    "# We need to set x first \n",
    "x = 3\n",
    "\n",
    "# Equal\n",
    "x = 5\n",
    "print(x)\n",
    "\n",
    "# Addition and equal\n",
    "x += 3\n",
    "print(x)\n",
    "\n",
    "# Substraction and equal\n",
    "x -= 3\n",
    "print(x)\n",
    "\n",
    "# Multiplication and equal\n",
    "x *= 3\n",
    "print(x)\n",
    "\n",
    "# Division and equal\n",
    "x /= 3\n",
    "print(x)\n",
    "\n",
    "# Modulus and equal\n",
    "x %= 3\n",
    "print(x)\n",
    "\n",
    "# Floor division and equal\n",
    "x //= 3\n",
    "print(x)\n",
    "\n",
    "# Exponential and equal\n",
    "x **=3\n",
    "print(x)"
   ]
  },
  {
   "cell_type": "markdown",
   "metadata": {},
   "source": [
    "`Comparison` operators are used to compare two values:\n",
    "\n",
    "| Opertor    | Name                     | Example   |\n",
    "| ---------- | -------------------------|-----------|\n",
    "| ==         | Equal                    | x == y    |\n",
    "| !=         | Not Equal                | x != y    |\n",
    "| >          | Greater than             | x > y     |\n",
    "| <          | Less than                | x < y     |\n",
    "| >=         | Greater than or equal to | x >= y    |\n",
    "| <=         | Less than or equal to    | x <= y    |\n",
    " "
   ]
  },
  {
   "cell_type": "code",
   "execution_count": 23,
   "metadata": {},
   "outputs": [
    {
     "name": "stdout",
     "output_type": "stream",
     "text": [
      "True\n",
      "True\n",
      "True\n",
      "True\n",
      "True\n",
      "True\n"
     ]
    }
   ],
   "source": [
    "# Let's do some comparison operations\n",
    "\n",
    "# Setting variables \n",
    "x = 5\n",
    "y = 10\n",
    "\n",
    "# Equal\n",
    "res = x == x\n",
    "print(res)\n",
    "\n",
    "# Different\n",
    "res = x != y\n",
    "print(res)\n",
    "\n",
    "# Greater than\n",
    "res = y > x\n",
    "print(res)\n",
    "\n",
    "# Less than\n",
    "res = x < y\n",
    "print(res)\n",
    "\n",
    "# Greater than or equal to\n",
    "res = x >= x\n",
    "print(res)\n",
    "\n",
    "# Less than or equal to\n",
    "res = x <= y\n",
    "print(res)"
   ]
  },
  {
   "cell_type": "markdown",
   "metadata": {},
   "source": [
    "`Logical` operators are used to combine conditional statements:\n",
    "\n",
    "| Opertor    | Description                                            | Example              |\n",
    "| ---------- | -------------------------------------------------------|----------------------|\n",
    "| and        | Returns True if both statements are true               | x < 5 and x < 10     |\n",
    "| or         | Returns True if one of the statements is true          | x < 5 or x < 4       |\n",
    "| not        | Reverse the result, returns False if the result is true| not(x < 5 and x < 10)|"
   ]
  },
  {
   "cell_type": "code",
   "execution_count": 27,
   "metadata": {},
   "outputs": [
    {
     "name": "stdout",
     "output_type": "stream",
     "text": [
      "Testing AND operator\n",
      "Testing OR operator\n",
      "Reversing AND statement\n"
     ]
    }
   ],
   "source": [
    "# Let's try them!\n",
    "\n",
    "x = 3\n",
    "\n",
    "if x < 5 and x < 10:\n",
    "    print(\"Testing AND operator\")\n",
    "\n",
    "if x < 5 or x < 4:\n",
    "    print(\"Testing OR operator\") \n",
    "\n",
    "if not(x > 5 and x > 10):\n",
    "    print(\"Reversing AND statement\")"
   ]
  },
  {
   "cell_type": "markdown",
   "metadata": {},
   "source": [
    "Also, `Identity Operators`. Used to compare the objects, not if they are equal, but if they are actuall same object, with the same memory location.\n",
    "\n",
    "Here you have a table with the most essential assigment operators in Python:\n",
    "\n",
    "| Opertor    | Description                                            | Example   |\n",
    "| ---------- | -------------------------------------------------------|-----------|\n",
    "| is         | Returns True if bot variables are the same object      | x is y    |\n",
    "| is not     | Returns True if both variables are not the same object | x is not y|"
   ]
  },
  {
   "cell_type": "code",
   "execution_count": 24,
   "metadata": {},
   "outputs": [
    {
     "name": "stdout",
     "output_type": "stream",
     "text": [
      "True\n",
      "True\n"
     ]
    }
   ],
   "source": [
    "# Set variables for comparison\n",
    "x = 5\n",
    "y = 10\n",
    "\n",
    "# Test is operator\n",
    "res = x is x\n",
    "print(res)\n",
    "\n",
    "# Test is not operator\n",
    "res = y is not x\n",
    "print(res)\n",
    "\n"
   ]
  },
  {
   "cell_type": "markdown",
   "metadata": {},
   "source": [
    "Finally, `Membership` operators. These are used to test if a sequence is presented in an object:\n",
    "\n",
    "| Opertor    | Description                                                                       | Example   |\n",
    "| ---------- | ----------------------------------------------------------------------------------|-----------|          \n",
    "| in         | Returns True if a sequence with the specified value is present in the object      | x is y    |\n",
    "| not in     | Returns True if a sequence with the specified value is not present in the object  | x is not y|"
   ]
  },
  {
   "cell_type": "code",
   "execution_count": 25,
   "metadata": {},
   "outputs": [
    {
     "name": "stdout",
     "output_type": "stream",
     "text": [
      "5 is in my_list\n",
      "100 is not in my list\n"
     ]
    }
   ],
   "source": [
    "# Let's set a list as a variable\n",
    "my_list = [1, 2, 3, 4, 5, 6, 7, 8, 9, 10]\n",
    "\n",
    "if 5 in my_list:\n",
    "    print(\"5 is in my_list\")\n",
    "\n",
    "if 100 not in my_list:\n",
    "    print(\"100 is not in my list\")"
   ]
  },
  {
   "cell_type": "markdown",
   "metadata": {},
   "source": [
    "## 3.0 Iterables: Lists, Dictionaries and Tuples"
   ]
  },
  {
   "cell_type": "markdown",
   "metadata": {},
   "source": [
    "`Lists` in Python are used to store multiple items as a collection of data in a single variable. Also, `Lists` are iterable objects so we will use it in the following lecture to loop over our data and do automatic things.\n",
    "\n",
    "Let's see some examples!"
   ]
  },
  {
   "cell_type": "code",
   "execution_count": 1,
   "metadata": {},
   "outputs": [
    {
     "name": "stdout",
     "output_type": "stream",
     "text": [
      "[0, 1, 2, 3, 4, 5, 6, 7, 8, 9, 10]\n"
     ]
    }
   ],
   "source": [
    "# Build a list that consists in integers that goes from 0 to 10\n",
    "\n",
    "my_list = [0, 1, 2, 3, 4, 5, 6, 7, 8, 9, 10]\n",
    "print(my_list)"
   ]
  },
  {
   "cell_type": "markdown",
   "metadata": {},
   "source": [
    "You can store anything inside! Let's test other things!"
   ]
  },
  {
   "cell_type": "code",
   "execution_count": 2,
   "metadata": {},
   "outputs": [
    {
     "name": "stdout",
     "output_type": "stream",
     "text": [
      "[True, False, True, False, True, True, False, False]\n",
      "['a', 'b', 'c', 'd']\n"
     ]
    }
   ],
   "source": [
    "# Other lists\n",
    "\n",
    "my_list_of_bools = [True, False, True, False, True, True, False, False]  # A list of bools!\n",
    "print(my_list_of_bools)\n",
    "\n",
    "my_list_of_strings = [\"a\", \"b\", \"c\", \"d\"] # List of strings!\n",
    "print(my_list_of_strings)"
   ]
  },
  {
   "cell_type": "markdown",
   "metadata": {},
   "source": [
    "We can access specific values inside a list by using indices! Let's see an example!"
   ]
  },
  {
   "cell_type": "code",
   "execution_count": 6,
   "metadata": {},
   "outputs": [
    {
     "name": "stdout",
     "output_type": "stream",
     "text": [
      "Hannah\n",
      "Hannah\n"
     ]
    }
   ],
   "source": [
    "# Let's build a list that contains people names\n",
    "\n",
    "names = [\"Alice\", \"Bob\", \"Charlie\", \"Diana\", \"Edward\", \"Fiona\", \"George\", \"Hannah\", \"Isaac\", \"Jasmine\"]\n",
    "\n",
    "# Let's choose Hannah as the name we need\n",
    "name_1 = names[7]\n",
    "print(name_1)\n",
    "\n",
    "# We can also do it in the other direction\n",
    "name_2 = names[-3]\n",
    "print(name_2)"
   ]
  },
  {
   "cell_type": "markdown",
   "metadata": {},
   "source": [
    "There is another `cool` thing that we can do with `Lists` and is to mesure their lengths!"
   ]
  },
  {
   "cell_type": "code",
   "execution_count": 7,
   "metadata": {},
   "outputs": [
    {
     "name": "stdout",
     "output_type": "stream",
     "text": [
      "There are 10 names in your list!\n"
     ]
    }
   ],
   "source": [
    "# Using the previous list\n",
    "\n",
    "names = [\"Alice\", \"Bob\", \"Charlie\", \"Diana\", \"Edward\", \"Fiona\", \"George\", \"Hannah\", \"Isaac\", \"Jasmine\"]\n",
    "\n",
    "length = len(names)\n",
    "\n",
    "print(f\"There are {length} names in your list!\")"
   ]
  },
  {
   "cell_type": "markdown",
   "metadata": {},
   "source": [
    "Finally, we can add more data into a list with the `append` method!"
   ]
  },
  {
   "cell_type": "code",
   "execution_count": 9,
   "metadata": {},
   "outputs": [
    {
     "name": "stdout",
     "output_type": "stream",
     "text": [
      "There are 11 names in your list!\n"
     ]
    }
   ],
   "source": [
    "names = [\"Alice\", \"Bob\", \"Charlie\", \"Diana\", \"Edward\", \"Fiona\", \"George\", \"Hannah\", \"Isaac\", \"Jasmine\"]\n",
    "\n",
    "names.append(\"Oliver\")\n",
    "\n",
    "length = len(names)\n",
    "\n",
    "print(f\"There are {length} names in your list!\")"
   ]
  },
  {
   "cell_type": "code",
   "execution_count": 10,
   "metadata": {},
   "outputs": [
    {
     "name": "stdout",
     "output_type": "stream",
     "text": [
      "CH4\n",
      "C6H6\n"
     ]
    }
   ],
   "source": [
    "# TODO: Build a list with the following chemical formulas inside! H2O, NaCl, H2SO4, CH4 and C2H5OH, the select the item with index 3.\n",
    "compounds = [\"H2O\", \"NaCl\", \"H2SO4\", \"CH4\", \"C2H5OH\"]\n",
    "\n",
    "my_compound = compounds[3]\n",
    "print(my_compound)\n",
    "\n",
    "# TODO: Append another chemical formula and print it\n",
    "compounds.append(\"C6H6\")\n",
    "new_molecule = compounds[-1]\n",
    "print(new_molecule)"
   ]
  },
  {
   "cell_type": "markdown",
   "metadata": {},
   "source": [
    "`Dictionaries` in the other hand are used to store data values in a `KEY:VALUE` pair. Also, is a collection which is *ordered*, changeable and do not allow duplicates (for Python versions greater than 3.6)"
   ]
  },
  {
   "cell_type": "code",
   "execution_count": 8,
   "metadata": {},
   "outputs": [
    {
     "name": "stdout",
     "output_type": "stream",
     "text": [
      "{'H': 1.0079, 'C': 12.0107, 'O': 15.999, 'Na': 22.9898, 'Cl': 35.453}\n"
     ]
    }
   ],
   "source": [
    "# Let's do our first dictionary to store the molecular weights of some elements.\n",
    "\n",
    "molecular_weights = {\n",
    "    \"H\": 1.0079,\n",
    "    \"C\": 12.0107,\n",
    "    \"O\": 15.999,\n",
    "    \"Na\": 22.9898,\n",
    "    \"Cl\": 35.453\n",
    "}\n",
    "\n",
    "print(molecular_weights)"
   ]
  },
  {
   "cell_type": "markdown",
   "metadata": {},
   "source": [
    "We can access data by using the keys, so let's print the `Na` molecular weights from our dict!"
   ]
  },
  {
   "cell_type": "code",
   "execution_count": 12,
   "metadata": {},
   "outputs": [
    {
     "name": "stdout",
     "output_type": "stream",
     "text": [
      "22.9898\n"
     ]
    }
   ],
   "source": [
    "# Getting the molecular weight of Na from the dict\n",
    "sodium_weight = molecular_weights[\"Na\"]\n",
    "print(sodium_weight)"
   ]
  },
  {
   "cell_type": "markdown",
   "metadata": {},
   "source": [
    "If we use the `len` method with a `dict` then we get the number of keys that are inside."
   ]
  },
  {
   "cell_type": "code",
   "execution_count": 13,
   "metadata": {},
   "outputs": [
    {
     "name": "stdout",
     "output_type": "stream",
     "text": [
      "5\n"
     ]
    }
   ],
   "source": [
    "# Len of a dict\n",
    "print(len(molecular_weights))"
   ]
  },
  {
   "cell_type": "markdown",
   "metadata": {},
   "source": [
    "We can also store other kinds of information inside a dict!"
   ]
  },
  {
   "cell_type": "code",
   "execution_count": 14,
   "metadata": {},
   "outputs": [
    {
     "name": "stdout",
     "output_type": "stream",
     "text": [
      "{'name': 'water', 'formula': 'H2O', 'molecular_weight': 18, 'is_liguid': True}\n"
     ]
    }
   ],
   "source": [
    "# Molecule info dict\n",
    "my_molecule = {\n",
    "    \"name\": \"water\",\n",
    "    \"formula\": \"H2O\",\n",
    "    \"molecular_weight\": 18,\n",
    "    \"is_liguid\": True\n",
    "}\n",
    "print(my_molecule)"
   ]
  },
  {
   "cell_type": "markdown",
   "metadata": {},
   "source": [
    "We can also add new data in `Dictionaries`, but in this case it is different than the `append` method!\n",
    "\n",
    "It is called `update`, and we need to provide the key and value pair."
   ]
  },
  {
   "cell_type": "code",
   "execution_count": 15,
   "metadata": {},
   "outputs": [
    {
     "name": "stdout",
     "output_type": "stream",
     "text": [
      "{'name': 'water', 'formula': 'H2O', 'molecular_weight': 18, 'is_liguid': True, 'is_toxic': False}\n"
     ]
    }
   ],
   "source": [
    "# Let's add another feature to our molecule!\n",
    "my_molecule.update({\"is_toxic\": False})\n",
    "\n",
    "print(my_molecule)"
   ]
  },
  {
   "cell_type": "markdown",
   "metadata": {},
   "source": []
  },
  {
   "cell_type": "markdown",
   "metadata": {},
   "source": [
    "## 4.0 Conditional Statements"
   ]
  }
 ],
 "metadata": {
  "kernelspec": {
   "display_name": "pythonic-chemistry",
   "language": "python",
   "name": "python3"
  },
  "language_info": {
   "codemirror_mode": {
    "name": "ipython",
    "version": 3
   },
   "file_extension": ".py",
   "mimetype": "text/x-python",
   "name": "python",
   "nbconvert_exporter": "python",
   "pygments_lexer": "ipython3",
   "version": "3.10.12"
  }
 },
 "nbformat": 4,
 "nbformat_minor": 2
}
