{
 "cells": [
  {
   "cell_type": "markdown",
   "metadata": {},
   "source": [
    "# **Introduction to Basic Python**"
   ]
  },
  {
   "cell_type": "markdown",
   "metadata": {},
   "source": [
    "## 1.0 Introduction"
   ]
  },
  {
   "cell_type": "markdown",
   "metadata": {},
   "source": [
    "Python is an interpreted, object-oriented, high-level programming language with dynamic semantics. Its high-level built in data structures, combined with dynamic typing and dynamic binding, making it very attractive for Rapid Application Development, as well as for use as scripting or glue language to connect existing components together.\n",
    "\n",
    "Python is simple with an easy to learn syntax that emphasizes readability and therefore reduces the cost of program maintenance. Python supports modules and packages, which encourages program modularity and code re-use.\n",
    "\n",
    "The python interpreter and the extensive standard library are available in source or binary form without charge for all major platforms, and can be freely distributed."
   ]
  },
  {
   "cell_type": "markdown",
   "metadata": {},
   "source": [
    "## 2.0 Variables and Data Types"
   ]
  },
  {
   "cell_type": "markdown",
   "metadata": {},
   "source": [
    "What are variables in Python?\n",
    "\n",
    "Variables and data types in Python as the name suggests are the values that vary. In a programming language, a variable is a memory location where you store a value. The value that you have stored my change in the future according to the specifications.\n",
    "\n",
    "Then, a Python variable is created as soon as the value is assigned to it. It does not need any additional commands to declare a variable in Python.\n",
    "\n",
    "Let's see an example!"
   ]
  },
  {
   "cell_type": "code",
   "execution_count": 4,
   "metadata": {},
   "outputs": [
    {
     "name": "stdout",
     "output_type": "stream",
     "text": [
      "The variable with name pi is equal to 3.14\n"
     ]
    }
   ],
   "source": [
    "# Let's declare a variable named pi with value 3.14 and print it\n",
    "pi = 3.14\n",
    "print(f\"The variable with name pi is equal to {pi}\")"
   ]
  },
  {
   "cell_type": "markdown",
   "metadata": {},
   "source": [
    "In this case, we have assigned the number 3.14 to the variable with name pi. Let's see other types of variables in Python:"
   ]
  },
  {
   "cell_type": "code",
   "execution_count": 5,
   "metadata": {},
   "outputs": [],
   "source": [
    "# Variables in Python\n",
    "\n",
    "string_color = \"Red\"  # This is called a string, usually to store text data\n",
    "\n",
    "num_of_cards = 10     # This is an integer, meaning numeric variables that are complete values\n",
    "\n",
    "pi = 3.14             # This is a float, is also a numeric variable but in this case it has decimals\n",
    "\n",
    "python_is_cool = True # This is a boolean which only allows for True and False"
   ]
  },
  {
   "cell_type": "markdown",
   "metadata": {},
   "source": [
    "Remember that in the `Introduction` we have said that Python is dynamically typed and `high-level`. The next example show cases this convenient property of Python that is not that easy in other languages."
   ]
  },
  {
   "cell_type": "code",
   "execution_count": 6,
   "metadata": {},
   "outputs": [
    {
     "name": "stdout",
     "output_type": "stream",
     "text": [
      "The molecular weight of H2O is 18.01528\n",
      "The molecular weight of H2O is eighteen\n"
     ]
    }
   ],
   "source": [
    "# Python is dynamically typed\n",
    "\n",
    "# Declare variables\n",
    "chemical_formula = \"H2O\"\n",
    "molecular_weight = 18.01528\n",
    "print(f\"The molecular weight of {chemical_formula} is {molecular_weight}\")\n",
    "\n",
    "# Change the type of a variable\n",
    "molecular_weight = \"eighteen\"\n",
    "print(f\"The molecular weight of {chemical_formula} is {molecular_weight}\")"
   ]
  },
  {
   "cell_type": "markdown",
   "metadata": {},
   "source": [
    "Best practices in Python are established in PEP8 (Python Enhancement Proposal) which is a programming style guide. One of the requirements to follow PEP8 guidelines is that variables are written in SNAKE_CASE.\n",
    "\n",
    "Snake case is a naming convention in which each space is replaced with an underscore (\"_\")."
   ]
  },
  {
   "cell_type": "markdown",
   "metadata": {},
   "source": [
    "### 2.1 Numerical and String Operations"
   ]
  },
  {
   "cell_type": "markdown",
   "metadata": {},
   "source": [
    "Now that we have learned how to `declare` Python variables and the kinds of variables that we can play around (e.g., string, integer, float, bool). It is time to do some operations with them."
   ]
  },
  {
   "cell_type": "markdown",
   "metadata": {},
   "source": [
    "There you have a table with all the operators in Python:\n",
    "\n",
    "| Opertor    | Name            | Example |\n",
    "| ---------- | ----------------|---------|\n",
    "| +          | Addition        | x + y   |\n",
    "| -          | Substraction    | x - y   |\n",
    "| *          | Multiplication  | x * y   |\n",
    "| /          | Division        | x / y   |\n",
    "| %          | Modulus         | x % y   |\n",
    "| **         | Exponentiation  | x ** y  |\n",
    "| //         | Floor division  | x // y  |"
   ]
  }
 ],
 "metadata": {
  "kernelspec": {
   "display_name": "pythonic-chemistry",
   "language": "python",
   "name": "python3"
  },
  "language_info": {
   "codemirror_mode": {
    "name": "ipython",
    "version": 3
   },
   "file_extension": ".py",
   "mimetype": "text/x-python",
   "name": "python",
   "nbconvert_exporter": "python",
   "pygments_lexer": "ipython3",
   "version": "3.10.12"
  }
 },
 "nbformat": 4,
 "nbformat_minor": 2
}
