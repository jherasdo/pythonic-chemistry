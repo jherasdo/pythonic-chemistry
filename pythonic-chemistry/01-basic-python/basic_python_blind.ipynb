{
 "cells": [
  {
   "cell_type": "markdown",
   "metadata": {},
   "source": [
    "# **Introduction to Basic Python**"
   ]
  },
  {
   "cell_type": "markdown",
   "metadata": {},
   "source": [
    "## 1.0 Introduction"
   ]
  },
  {
   "cell_type": "markdown",
   "metadata": {},
   "source": [
    "Python is an interpreted, object-oriented, high-level programming language with dynamic semantics. Its high-level built in data structures, combined with dynamic typing and dynamic binding, making it very attractive for Rapid Application Development, as well as for use as scripting or glue language to connect existing components together.\n",
    "\n",
    "Python is simple with an easy to learn syntax that emphasizes readability and therefore reduces the cost of program maintenance. Python supports modules and packages, which encourages program modularity and code re-use.\n",
    "\n",
    "The python interpreter and the extensive standard library are available in source or binary form without charge for all major platforms, and can be freely distributed."
   ]
  },
  {
   "cell_type": "markdown",
   "metadata": {},
   "source": [
    "## 2.0 Variables and Data Types"
   ]
  },
  {
   "cell_type": "markdown",
   "metadata": {},
   "source": [
    "What are variables in Python?\n",
    "\n",
    "Variables and data types in Python as the name suggests are the values that vary. In a programming language, a variable is a memory location where you store a value. The value that you have stored my change in the future according to the specifications.\n",
    "\n",
    "Then, a Python variable is created as soon as the value is assigned to it. It does not need any additional commands to declare a variable in Python.\n",
    "\n",
    "Let's see an example!"
   ]
  },
  {
   "cell_type": "code",
   "execution_count": null,
   "metadata": {},
   "outputs": [],
   "source": [
    "# Let's declare a variable named pi with value 3.14 and print it\n",
    "pi = 3.14\n",
    "print(f\"The variable with name pi is equal to {pi}\")"
   ]
  },
  {
   "cell_type": "markdown",
   "metadata": {},
   "source": [
    "In this case, we have assigned the number 3.14 to the variable with name pi. Let's see other types of variables in Python:"
   ]
  },
  {
   "cell_type": "code",
   "execution_count": null,
   "metadata": {},
   "outputs": [],
   "source": [
    "# Variables in Python\n",
    "\n",
    "string_color = \"Red\"  # This is called a string, usually to store text data\n",
    "\n",
    "num_of_cards = 10     # This is an integer, meaning numeric variables that are complete values\n",
    "\n",
    "pi = 3.14             # This is a float, is also a numeric variable but in this case it has decimals\n",
    "\n",
    "python_is_cool = True # This is a boolean which only allows for True and False"
   ]
  },
  {
   "cell_type": "markdown",
   "metadata": {},
   "source": [
    "Remember that in the `Introduction` we have said that Python is dynamically typed and `high-level`. The next example show cases this convenient property of Python that is not that easy in other languages."
   ]
  },
  {
   "cell_type": "code",
   "execution_count": null,
   "metadata": {},
   "outputs": [],
   "source": [
    "# Python is dynamically typed\n",
    "\n",
    "# Declare variables\n",
    "chemical_formula = \"H2O\"\n",
    "molecular_weight = 18.01528\n",
    "print(f\"The molecular weight of {chemical_formula} is {molecular_weight}\")\n",
    "\n",
    "# Change the type of a variable\n",
    "molecular_weight = \"eighteen\"\n",
    "print(f\"The molecular weight of {chemical_formula} is {molecular_weight}\")"
   ]
  },
  {
   "cell_type": "markdown",
   "metadata": {},
   "source": [
    "Best practices in Python are established in PEP8 (Python Enhancement Proposal) which is a programming style guide. One of the requirements to follow PEP8 guidelines is that variables are written in SNAKE_CASE.\n",
    "\n",
    "Snake case is a naming convention in which each space is replaced with an underscore (\"_\")."
   ]
  },
  {
   "cell_type": "markdown",
   "metadata": {},
   "source": [
    "### 2.1 Numerical and String Operations"
   ]
  },
  {
   "cell_type": "markdown",
   "metadata": {},
   "source": [
    "Now that we have learned how to `declare` Python variables and the kinds of variables that we can play around (e.g., string, integer, float, bool). It is time to do some operations with them."
   ]
  },
  {
   "cell_type": "markdown",
   "metadata": {},
   "source": [
    "There you have a table with all the arithmetic operators in Python:\n",
    "\n",
    "| Opertor    | Name            | Example |\n",
    "| ---------- | ----------------|---------|\n",
    "| +          | Addition        | x + y   |\n",
    "| -          | Substraction    | x - y   |\n",
    "| *          | Multiplication  | x * y   |\n",
    "| /          | Division        | x / y   |\n",
    "| %          | Modulus         | x % y   |\n",
    "| **         | Exponentiation  | x ** y  |\n",
    "| //         | Floor division  | x // y  |"
   ]
  },
  {
   "cell_type": "code",
   "execution_count": null,
   "metadata": {},
   "outputs": [],
   "source": [
    "# Addition\n",
    "add = 3 + 5\n",
    "print(add)\n",
    "\n",
    "# Substraction\n",
    "subs = 5 - 3\n",
    "print(subs)\n",
    "\n",
    "# Multiplication\n",
    "mult = 2 * 5\n",
    "print(mult)\n",
    "\n",
    "# Dividision\n",
    "div = 10 / 2\n",
    "print(div)\n",
    "\n",
    "# Modulus\n",
    "mod = 18 % 2\n",
    "print(mod)\n",
    "\n",
    "# Exponentiation\n",
    "expo = 2**3\n",
    "print(expo)\n",
    "\n",
    "# Floor division\n",
    "floor_div = 18 // 2\n",
    "print(floor_div)"
   ]
  },
  {
   "cell_type": "markdown",
   "metadata": {},
   "source": [
    "The addition (+) operator can also be used to concatenate strings:"
   ]
  },
  {
   "cell_type": "code",
   "execution_count": null,
   "metadata": {},
   "outputs": [],
   "source": [
    "# Strings concatenation\n",
    "first_string = \"Hello\"\n",
    "\n",
    "second_string = \"World\"\n",
    "\n",
    "third_string = \"!\"\n",
    "\n",
    "phrase = first_string+\" \"+second_string+\" \"+third_string\n",
    "print(phrase)\n",
    "\n",
    "# Although the best way to do it is with f-formatting\n",
    "phrase = f\"{first_string} {second_string} {third_string}\"\n",
    "print(phrase)"
   ]
  },
  {
   "cell_type": "markdown",
   "metadata": {},
   "source": [
    "As you can imagine, there are more kinds of operators in Python.\n",
    "\n",
    "Here you have a table with the most essential `Assigment` operators in Python:\n",
    "\n",
    "| Opertor    | Example         | Same as   |\n",
    "| ---------- | ----------------|-----------|\n",
    "| =          | x = 5           | x = 5     |\n",
    "| +=         | x += 3          | x = x + 3 |\n",
    "| -=         | x -= 3          | x = x - 3 |\n",
    "| *=         | x *= 3          | x = x * 3 |\n",
    "| /=         | x /= 3          | x = x / 3 |\n",
    "| %=         | x %= 3          | x = x % 3 |\n",
    "| //=        | x //= 3         | x = x // 3|\n",
    "| **=        | x **= 3         | x = x ** 3|"
   ]
  },
  {
   "cell_type": "code",
   "execution_count": null,
   "metadata": {},
   "outputs": [],
   "source": [
    "# TODO: Test the assigment operators yourself!\n",
    "\n",
    "# We need to set x first \n",
    "x = 3"
   ]
  },
  {
   "cell_type": "markdown",
   "metadata": {},
   "source": [
    "`Comparison` operators are used to compare two values:\n",
    "\n",
    "| Opertor    | Name                     | Example   |\n",
    "| ---------- | -------------------------|-----------|\n",
    "| ==         | Equal                    | x == y    |\n",
    "| !=         | Not Equal                | x != y    |\n",
    "| >          | Greater than             | x > y     |\n",
    "| <          | Less than                | x < y     |\n",
    "| >=         | Greater than or equal to | x >= y    |\n",
    "| <=         | Less than or equal to    | x <= y    |\n",
    " "
   ]
  },
  {
   "cell_type": "code",
   "execution_count": null,
   "metadata": {},
   "outputs": [],
   "source": [
    "# Let's do some comparison operations\n",
    "\n",
    "# Setting variables \n",
    "x = 5\n",
    "y = 10\n",
    "\n",
    "# Equal\n",
    "res = x == x\n",
    "print(res)\n",
    "\n",
    "# Different\n",
    "res = x != y\n",
    "print(res)\n",
    "\n",
    "# Greater than\n",
    "res = y > x\n",
    "print(res)\n",
    "\n",
    "# Less than\n",
    "res = x < y\n",
    "print(res)\n",
    "\n",
    "# Greater than or equal to\n",
    "res = x >= x\n",
    "print(res)\n",
    "\n",
    "# Less than or equal to\n",
    "res = x <= y\n",
    "print(res)"
   ]
  },
  {
   "cell_type": "markdown",
   "metadata": {},
   "source": [
    "`Logical` operators are used to combine conditional statements:\n",
    "\n",
    "| Opertor    | Description                                            | Example              |\n",
    "| ---------- | -------------------------------------------------------|----------------------|\n",
    "| and        | Returns True if both statements are true               | x < 5 and x < 10     |\n",
    "| or         | Returns True if one of the statements is true          | x < 5 or x < 4       |\n",
    "| not        | Reverse the result, returns False if the result is true| not(x < 5 and x < 10)|"
   ]
  },
  {
   "cell_type": "code",
   "execution_count": null,
   "metadata": {},
   "outputs": [],
   "source": [
    "# Let's try them!\n",
    "\n",
    "x = 3\n",
    "\n",
    "if x < 5 and x < 10:\n",
    "    print(\"Testing AND operator\")\n",
    "\n",
    "if x < 5 or x < 4:\n",
    "    print(\"Testing OR operator\") \n",
    "\n",
    "if not(x > 5 and x > 10):\n",
    "    print(\"Reversing AND statement\")"
   ]
  },
  {
   "cell_type": "markdown",
   "metadata": {},
   "source": [
    "Also, `Identity Operators`. Used to compare the objects, not if they are equal, but if they are actuall same object, with the same memory location.\n",
    "\n",
    "Here you have a table with the most essential assigment operators in Python:\n",
    "\n",
    "| Opertor    | Description                                            | Example   |\n",
    "| ---------- | -------------------------------------------------------|-----------|\n",
    "| is         | Returns True if bot variables are the same object      | x is y    |\n",
    "| is not     | Returns True if both variables are not the same object | x is not y|"
   ]
  },
  {
   "cell_type": "code",
   "execution_count": null,
   "metadata": {},
   "outputs": [],
   "source": [
    "# Set variables for comparison\n",
    "x = 5\n",
    "y = 10\n",
    "\n",
    "# Test is operator\n",
    "res = x is x\n",
    "print(res)\n",
    "\n",
    "# Test is not operator\n",
    "res = y is not x\n",
    "print(res)\n",
    "\n"
   ]
  },
  {
   "cell_type": "markdown",
   "metadata": {},
   "source": [
    "Finally, `Membership` operators. These are used to test if a sequence is presented in an object:\n",
    "\n",
    "| Opertor    | Description                                                                       | Example   |\n",
    "| ---------- | ----------------------------------------------------------------------------------|-----------|          \n",
    "| in         | Returns True if a sequence with the specified value is present in the object      | x is y    |\n",
    "| not in     | Returns True if a sequence with the specified value is not present in the object  | x is not y|"
   ]
  },
  {
   "cell_type": "code",
   "execution_count": null,
   "metadata": {},
   "outputs": [],
   "source": [
    "# Let's set a list as a variable\n",
    "my_list = [1, 2, 3, 4, 5, 6, 7, 8, 9, 10]\n",
    "\n",
    "if 5 in my_list:\n",
    "    print(\"5 is in my_list\")\n",
    "\n",
    "if 100 not in my_list:\n",
    "    print(\"100 is not in my list\")"
   ]
  },
  {
   "cell_type": "markdown",
   "metadata": {},
   "source": [
    "## 3.0 Iterables: Lists, Dictionaries and Tuples"
   ]
  },
  {
   "cell_type": "markdown",
   "metadata": {},
   "source": [
    "### 3.1 Lists"
   ]
  },
  {
   "cell_type": "markdown",
   "metadata": {},
   "source": [
    "`Lists` in Python are used to store multiple items as a collection of data in a single variable. Also, `Lists` are iterable objects so we will use it in the following lecture to loop over our data and do automatic things.\n",
    "\n",
    "Let's see some examples!"
   ]
  },
  {
   "cell_type": "code",
   "execution_count": null,
   "metadata": {},
   "outputs": [],
   "source": [
    "# Build a list that consists in integers that goes from 0 to 10\n",
    "\n",
    "my_list = [0, 1, 2, 3, 4, 5, 6, 7, 8, 9, 10]\n",
    "print(my_list)"
   ]
  },
  {
   "cell_type": "markdown",
   "metadata": {},
   "source": [
    "You can store anything inside! Let's test other things!"
   ]
  },
  {
   "cell_type": "code",
   "execution_count": null,
   "metadata": {},
   "outputs": [],
   "source": [
    "# Other lists\n",
    "\n",
    "my_list_of_bools = [True, False, True, False, True, True, False, False]  # A list of bools!\n",
    "print(my_list_of_bools)\n",
    "\n",
    "my_list_of_strings = [\"a\", \"b\", \"c\", \"d\"] # List of strings!\n",
    "print(my_list_of_strings)"
   ]
  },
  {
   "cell_type": "markdown",
   "metadata": {},
   "source": [
    "We can access specific values inside a list by using indices! Let's see an example!"
   ]
  },
  {
   "cell_type": "code",
   "execution_count": null,
   "metadata": {},
   "outputs": [],
   "source": [
    "# Let's build a list that contains people names\n",
    "\n",
    "names = [\"Alice\", \"Bob\", \"Charlie\", \"Diana\", \"Edward\", \"Fiona\", \"George\", \"Hannah\", \"Isaac\", \"Jasmine\"]\n",
    "\n",
    "# Let's choose Hannah as the name we need\n",
    "name_1 = names[7]\n",
    "print(name_1)\n",
    "\n",
    "# We can also do it in the other direction\n",
    "name_2 = names[-3]\n",
    "print(name_2)"
   ]
  },
  {
   "cell_type": "markdown",
   "metadata": {},
   "source": [
    "There is another `cool` thing that we can do with `Lists` and is to mesure their lengths!"
   ]
  },
  {
   "cell_type": "code",
   "execution_count": null,
   "metadata": {},
   "outputs": [],
   "source": [
    "# Using the previous list\n",
    "\n",
    "names = [\"Alice\", \"Bob\", \"Charlie\", \"Diana\", \"Edward\", \"Fiona\", \"George\", \"Hannah\", \"Isaac\", \"Jasmine\"]\n",
    "\n",
    "length = len(names)\n",
    "\n",
    "print(f\"There are {length} names in your list!\")"
   ]
  },
  {
   "cell_type": "markdown",
   "metadata": {},
   "source": [
    "Finally, we can add more data into a list with the `append` method and delete it with the `remove` method."
   ]
  },
  {
   "cell_type": "code",
   "execution_count": null,
   "metadata": {},
   "outputs": [],
   "source": [
    "# Let's append a new name!\n",
    "names = [\"Alice\", \"Bob\", \"Charlie\", \"Diana\", \"Edward\", \"Fiona\", \"George\", \"Hannah\", \"Isaac\", \"Jasmine\"]\n",
    "names.append(\"Oliver\")\n",
    "\n",
    "# Measure its length\n",
    "length = len(names)\n",
    "print(f\"There are {length} names in your list!\")\n",
    "\n",
    "# Remove another name\n",
    "names.remove(\"Alice\")\n",
    "length = len(names)\n",
    "print(f\"There are {length} names in your list!\")"
   ]
  },
  {
   "cell_type": "markdown",
   "metadata": {},
   "source": [
    "**EXERCISE** Let's build a list with the following chemical formulas (H2O, NaCl, H2SO4, CH4 and C2H5OH), then you will measure its length and print it. Secondly, add a new molecule C6H6, measure its length and remove NaCl."
   ]
  },
  {
   "cell_type": "code",
   "execution_count": null,
   "metadata": {},
   "outputs": [],
   "source": [
    "# TODO: Build a list with the following chemical formulas inside! H2O, NaCl, H2SO4, CH4 and C2H5OH. How many compounds are in the list?\n",
    "compounds = [\"H2O\", \"NaCl\", \"H2SO4\", \"CH4\", \"C2H5OH\"]\n",
    "\n",
    "\n",
    "print(f\"We have {length_compounds} compounds!\")\n",
    "\n",
    "# TODO: Append C6H6 chemical formula and print it\n",
    "\n",
    "\n",
    "print(f\"Now we have {length_compounds} compounds!\")\n",
    "\n",
    "# TODO: Remove NaCl from the list\n",
    "\n",
    "\n",
    "print(f\"Finally, we have {length_compounds} compounds!\")\n"
   ]
  },
  {
   "cell_type": "markdown",
   "metadata": {},
   "source": [
    "### 3.2 Dictionaries"
   ]
  },
  {
   "cell_type": "markdown",
   "metadata": {},
   "source": [
    "`Dictionaries` in the other hand are used to store data values in a `KEY:VALUE` pair. Also, is a collection which is *ordered*, changeable and do not allow duplicates (for Python versions greater than 3.6)"
   ]
  },
  {
   "cell_type": "code",
   "execution_count": null,
   "metadata": {},
   "outputs": [],
   "source": [
    "# Let's do our first dictionary to store the molecular weights of some elements.\n",
    "\n",
    "molecular_weights = {\n",
    "    \"H\": 1.0079,\n",
    "    \"C\": 12.0107,\n",
    "    \"O\": 15.999,\n",
    "    \"Na\": 22.9898,\n",
    "    \"Cl\": 35.453\n",
    "}\n",
    "\n",
    "print(molecular_weights)"
   ]
  },
  {
   "cell_type": "markdown",
   "metadata": {},
   "source": [
    "We can access data by using the keys, so let's print the `Na` molecular weights from our dict!"
   ]
  },
  {
   "cell_type": "code",
   "execution_count": null,
   "metadata": {},
   "outputs": [],
   "source": [
    "# Getting the molecular weight of Na from the dict\n",
    "sodium_weight = molecular_weights[\"Na\"]\n",
    "print(sodium_weight)"
   ]
  },
  {
   "cell_type": "markdown",
   "metadata": {},
   "source": [
    "If we use the `len` method with a `dict` then we get the number of keys that are inside."
   ]
  },
  {
   "cell_type": "code",
   "execution_count": null,
   "metadata": {},
   "outputs": [],
   "source": [
    "# Len of a dict\n",
    "print(len(molecular_weights))"
   ]
  },
  {
   "cell_type": "markdown",
   "metadata": {},
   "source": [
    "We can also store other kinds of information inside a dict!"
   ]
  },
  {
   "cell_type": "code",
   "execution_count": null,
   "metadata": {},
   "outputs": [],
   "source": [
    "# Molecule info dict\n",
    "my_molecule = {\n",
    "    \"name\": \"water\",\n",
    "    \"formula\": \"H2O\",\n",
    "    \"molecular_weight\": 18.01528,\n",
    "    \"is_liguid\": True,\n",
    "    \"properties\": [\"high polarity\", \"high specific heat\", \"high heat of vaporization\"]\n",
    "}\n",
    "print(my_molecule)"
   ]
  },
  {
   "cell_type": "markdown",
   "metadata": {},
   "source": [
    "We can also add new data in `Dictionaries`, but in this case it is different than the `append` method!\n",
    "\n",
    "It is called `update`, and we need to provide the key and value pair."
   ]
  },
  {
   "cell_type": "code",
   "execution_count": null,
   "metadata": {},
   "outputs": [],
   "source": [
    "# Let's add another feature to our molecule!\n",
    "my_molecule.update({\"is_toxic\": False})\n",
    "\n",
    "print(my_molecule)"
   ]
  },
  {
   "cell_type": "markdown",
   "metadata": {},
   "source": [
    "To remove data from `dicts` we can use the `pop` method or the `del` statement."
   ]
  },
  {
   "cell_type": "code",
   "execution_count": null,
   "metadata": {},
   "outputs": [],
   "source": [
    "# Let's remove properties and formula from the previous dict\n",
    "my_molecule.pop(\"properties\")\n",
    "print(my_molecule)\n",
    "\n",
    "del my_molecule[\"formula\"]\n",
    "print(my_molecule)"
   ]
  },
  {
   "cell_type": "markdown",
   "metadata": {},
   "source": [
    "**EXERCISE** Use the following dictionary to select the `molecular formula` and `IUPAC name`. Then, add its `CAS` number (50-78-2). Finally, remove the `boiling point` since doesn't give much information, but add the following `uses` as a `List`.\n",
    "\n",
    "Aspirin uses: Anti-inflammatory, Analgesic, Antipyretic"
   ]
  },
  {
   "cell_type": "code",
   "execution_count": null,
   "metadata": {},
   "outputs": [],
   "source": [
    "# The aspirin dict\n",
    "aspirin_info = {\n",
    "    \"IUPAC_name\": \"2-acetoxybenzoic acid\",\n",
    "    \"common_name\": \"Aspirin\",\n",
    "    \"molecular_formula\": \"C9H8O4\",\n",
    "    \"molar_mass\": 180.16,\n",
    "    \"structure\": \"O=C(C)Oc1ccccc1C(=O)O\",\n",
    "    \"melting_point_celsius\": 138,\n",
    "    \"boiling_point\": \"Decomposes\",\n",
    "    \"solubility\": \"Slightly soluble in water, soluble in ethanol, chloroform, and ether\",\n",
    "    \"side_effects\": [\"Stomach upset\", \"Tinnitus\", \"Bleeding\"],\n",
    "    \"mechanism_of_action\": \"Inhibition of COX enzymes, which are involved in the production of prostaglandins.\"\n",
    "}"
   ]
  },
  {
   "cell_type": "code",
   "execution_count": null,
   "metadata": {},
   "outputs": [],
   "source": [
    "# Print molecular formula and IUPAC name\n",
    "print(aspirin_info[\"molecular_formula\"], aspirin_info[\"IUPAC_name\"])\n",
    "\n",
    "# Add the CAS number\n",
    "\n",
    "print(aspirin_info)\n",
    "\n",
    "# Remove Boiling point\n",
    "\n",
    "\n",
    "# Add uses!\n",
    "\n",
    "print(aspirin_info)"
   ]
  },
  {
   "cell_type": "markdown",
   "metadata": {},
   "source": [
    "### 3.3 Tuples"
   ]
  },
  {
   "cell_type": "markdown",
   "metadata": {},
   "source": [
    "On the other hand, `Tuples` are used to store multiple items in a single variable as `Lists` or `Dicts` but with some differences. \n",
    "\n",
    "In this case, a `tuple` is a collection which is ordered and **unchangeable**.\n",
    "\n",
    "Let's see some examples!"
   ]
  },
  {
   "cell_type": "code",
   "execution_count": null,
   "metadata": {},
   "outputs": [],
   "source": [
    "# Let's do our first tuple\n",
    "my_tuple = (\"apple\", \"banana\", \"cherry\")\n",
    "print(my_tuple)"
   ]
  },
  {
   "cell_type": "markdown",
   "metadata": {},
   "source": [
    "In this case, `tuples` allows duplicates!"
   ]
  },
  {
   "cell_type": "code",
   "execution_count": null,
   "metadata": {},
   "outputs": [],
   "source": [
    "# Adding a duplicate in our tuple\n",
    "my_tuple = (\"apple\", \"banana\", \"cherry\", \"apple\")\n",
    "print(my_tuple)"
   ]
  },
  {
   "cell_type": "markdown",
   "metadata": {},
   "source": [
    "`Tuples` also allow to store different kinds of data such as strings, integers, floats and bools"
   ]
  },
  {
   "cell_type": "code",
   "execution_count": null,
   "metadata": {},
   "outputs": [],
   "source": [
    "# Strigs\n",
    "my_tuple = (\"apple\", \"banana\", \"cherry\", \"apple\")\n",
    "print(my_tuple)\n",
    "\n",
    "# Integers\n",
    "my_tuple = (1, 2, 3, 4, 5, 6)\n",
    "print(my_tuple)\n",
    "\n",
    "# Floats\n",
    "my_tuple = (1.0, 1.2, 1.4, 1.5, 1.6)\n",
    "print(my_tuple)\n",
    "\n",
    "# Bools\n",
    "my_tuple = (True, False, True, False)\n",
    "print(my_tuple)\n",
    "\n",
    "# Mixed\n",
    "my_tuple = (\"apple\", 1, 2.5, True)\n",
    "print(my_tuple)"
   ]
  },
  {
   "cell_type": "markdown",
   "metadata": {},
   "source": [
    "We can also use the `len` method with `tuples`!"
   ]
  },
  {
   "cell_type": "code",
   "execution_count": null,
   "metadata": {},
   "outputs": [],
   "source": [
    "# Measuring the length of my_tuple\n",
    "print(len(my_tuple))"
   ]
  },
  {
   "cell_type": "markdown",
   "metadata": {},
   "source": [
    "Finally, it is possible to slice data through indexing with `tuples`. Let's see some examples!"
   ]
  },
  {
   "cell_type": "code",
   "execution_count": null,
   "metadata": {},
   "outputs": [],
   "source": [
    "# Add data\n",
    "my_tuple = (\"H2\", \"N2\", \"CO2\", \"H2O\")\n",
    "water = my_tuple[-1]\n",
    "print(water)"
   ]
  },
  {
   "cell_type": "markdown",
   "metadata": {},
   "source": [
    "## 4.0 Conditional Statements"
   ]
  },
  {
   "cell_type": "markdown",
   "metadata": {},
   "source": [
    "`if`, `elif` and `else` are conditional statements that provide the tools for decision making that is required when we want to execute code based on particular conditions.\n",
    "\n",
    "The `if` condition is considered the simplest of the three and makes a decision based on whether the condition is true or not. If the condition is `True`, it executes the code below its condition. If the condition is `False`, it will skip that part.\n",
    "\n",
    "```\n",
    "if condition:\n",
    "    expression\n",
    "```"
   ]
  },
  {
   "cell_type": "code",
   "execution_count": null,
   "metadata": {},
   "outputs": [],
   "source": [
    "# Let's build a Warning message if temperature is too high\n",
    "\n",
    "current_temperature = 80\n",
    "\n",
    "if current_temperature <= 90:\n",
    "    print(f\"Everything is OK! Temperature is {current_temperature}\")"
   ]
  },
  {
   "cell_type": "markdown",
   "metadata": {},
   "source": [
    "`if-else` conditon adds an additonal step in the decision-making process compared to the simple `if` statement. The beginning of an `if-else` statement operates similar to the previous case; however, if the condition is `False`, instead of printing nothing, the indented expression under `else` will be executed.\n",
    "\n",
    "```\n",
    "if condition:\n",
    "    expression\n",
    "else:\n",
    "    expression\n",
    "```"
   ]
  },
  {
   "cell_type": "code",
   "execution_count": null,
   "metadata": {},
   "outputs": [],
   "source": [
    "# Following with the previous example\n",
    "current_temperature = 101\n",
    "\n",
    "if current_temperature <= 90:\n",
    "    print(f\"Everything is OK! temperature is {current_temperature}\")\n",
    "else:\n",
    "    print(f\"Critical Temperature has been reached! {current_temperature}\")"
   ]
  },
  {
   "cell_type": "markdown",
   "metadata": {},
   "source": [
    "`ìf-elif-else` condition is the most complex of these conditions. When we run into situation where we have several conditinos, we can place as many `elif` conditions as necessary between the `if` condition and the `else` condition.\n",
    "\n",
    "```\n",
    "if condition:\n",
    "    expression\n",
    "elif condition:\n",
    "    expression\n",
    "else:\n",
    "    expression\n",
    "```"
   ]
  },
  {
   "cell_type": "code",
   "execution_count": null,
   "metadata": {},
   "outputs": [],
   "source": [
    "# Adding elif conditions\n",
    "current_temperature = 99.5\n",
    "\n",
    "if current_temperature <= 90:\n",
    "    print(f\"Everything is OK! temperature is {current_temperature}\")\n",
    "elif current_temperature <= 99.9:\n",
    "    print(f\"Caution! The Temperature is reaching concerning values: {current_temperature}\")\n",
    "else:\n",
    "    print(f\"Critical Temperature has been reached! {current_temperature}\")"
   ]
  },
  {
   "cell_type": "markdown",
   "metadata": {},
   "source": [
    "**EXERCISE** Now is your time to build an `if-elif-else` conditional statement! Let's say that we got a yield of 85% for a given reaction in an automatic laboratory and we want a warning message to know if the yield is good or not. \n",
    "\n",
    "If the yield is greater than 90% we will say that its and excellent yield. Then, if the yield is between 80 and 90 it is just Good, and between 60 and 80 a Moderate yield. Finally a yield below 60 its a pretty low yield."
   ]
  },
  {
   "cell_type": "code",
   "execution_count": null,
   "metadata": {},
   "outputs": [],
   "source": [
    "# TODO: conditional statement to classify how good is our yield\n",
    "\n",
    "yield_percentage = 85  # Experimental yield as a percentage\n",
    "\n"
   ]
  }
 ],
 "metadata": {
  "kernelspec": {
   "display_name": "pythonic-chemistry",
   "language": "python",
   "name": "python3"
  },
  "language_info": {
   "codemirror_mode": {
    "name": "ipython",
    "version": 3
   },
   "file_extension": ".py",
   "mimetype": "text/x-python",
   "name": "python",
   "nbconvert_exporter": "python",
   "pygments_lexer": "ipython3",
   "version": "3.10.12"
  }
 },
 "nbformat": 4,
 "nbformat_minor": 2
}
