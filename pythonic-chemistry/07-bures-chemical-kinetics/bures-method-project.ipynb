{
 "cells": [
  {
   "cell_type": "markdown",
   "id": "069fa8be",
   "metadata": {},
   "source": [
    "## Application of the Bures method for chemical kinetics\n",
    "The Bures method is a graphical method ([Bures, Angew. Chem. Int. Ed. 2016](https://onlinelibrary.wiley.com/doi/full/10.1002/anie.201508983), [Nielsen & Bures, Chem. Sci. 2021](https://pubs.rsc.org/en/content/articlelanding/2019/sc/c8sc04698k)) for the determination of reaction orders, employing only concentration data without the need of computing reaction rates. It relies on the overlap of different concentration curves, and thus it cannot be fully parametrized or automated. Nevertheless, it offers an easy way to determine reaction orders, and it can be easily implemented in Python.\n",
    "\n",
    "In this project, we will consider two \"variants\" of the method. The first considers only the order in *catalyst*, which is easier to implement due to the catalyst concentration being constant across the kinetics. The second (also known as the VTNA - Variable Time Normalization Analysis) method is more general, and can be applied to any of the reactants, but it is a bit more complex."
   ]
  },
  {
   "cell_type": "markdown",
   "id": "525dbb23",
   "metadata": {},
   "source": [
    "### 1. Order in catalyst\n",
    "\n",
    "There must be at least *two* data series with different initial catalyst loadings. We may then consider the concentration of any reagent or product in the dataset. For example:\n",
    "\n",
    "<img src='Raw_profiles.png' width=400>\n",
    "\n",
    "Here we have a case with 0.05 M and another with 0.02 M (with the reaction with more catalyst being of course faster).\n",
    "\n",
    "The Bures method is purely *graphical*: requires to plot these concentrations at different catalyst loadings against a normalized time scale $Z = t \\cdot [cat]^{r}$. The value of the exponent **r** for which all the curves fully overlap is the order in catalyst for the reaction, which is the parameter to be determined.\n",
    "\n",
    "<img src='Scaled_profiles.png' width=400>\n",
    "\n",
    "And this value of **r** is the order in catalyst for the reaction.\n",
    "\n",
    "The key steps to apply this variant of the protocol are:\n",
    "1. Read information from a CSV file.\n",
    "2. Format and clean data: get catalyst concentration values for each column.\n",
    "3. Plot the concentration vs. time profiles.\n",
    "4. Try a value for **r** and plot concentration vs $t \\cdot [cat]^{r}$ profiles.\n",
    "5. Attempt to locate ideal **r** value.\n"
   ]
  },
  {
   "cell_type": "code",
   "execution_count": 3,
   "id": "f298e064",
   "metadata": {},
   "outputs": [],
   "source": [
    "import numpy as np\n",
    "import pandas as pd\n",
    "import matplotlib.pyplot as plt\n",
    "import seaborn as sns\n",
    "%matplotlib inline"
   ]
  },
  {
   "cell_type": "code",
   "execution_count": 4,
   "id": "facf742d",
   "metadata": {},
   "outputs": [],
   "source": [
    "#-> 1. Read information: CSV file in datasets/m1_fig2a_simple_michaelis.dat.\n",
    "# Header line contains the catalyst concentrations\n",
    "\n",
    "filename = \"m1_fig2a_simple_michaelis.dat\"\n"
   ]
  },
  {
   "cell_type": "code",
   "execution_count": 5,
   "id": "db1a7643",
   "metadata": {},
   "outputs": [],
   "source": [
    "# 2. Format and clean data: get catalyst concentration values for each column.\n"
   ]
  },
  {
   "cell_type": "code",
   "execution_count": 6,
   "id": "e2ba86a1",
   "metadata": {},
   "outputs": [],
   "source": [
    "# 3. Plot the concentration vs. time profiles from the DataFrame"
   ]
  },
  {
   "cell_type": "code",
   "execution_count": 7,
   "id": "deb8e67f",
   "metadata": {},
   "outputs": [],
   "source": [
    "# 4. Try a value for **r** (e.g. r=0.5) and plot concentration vs $t \\cdot [cat]^{r}$ profiles.\n",
    "# Add title, axis labels and legend\n",
    "\n",
    "r = 0.5\n",
    "\n"
   ]
  },
  {
   "cell_type": "code",
   "execution_count": 8,
   "id": "c33560d4",
   "metadata": {},
   "outputs": [],
   "source": [
    "# 5. Attempt to locate ideal **r** value, by testing several possibilities. Plot all curves in a single \n",
    "# layout, using plt.subplots. There must be as many plots as tested values.\n",
    "# Hint: use a list or an array, with np.linspace\n",
    "\n",
    "\n"
   ]
  },
  {
   "cell_type": "markdown",
   "id": "ce4ec21d",
   "metadata": {},
   "source": [
    "### 2. Application of the more general VTNA \n",
    "Not as straightforward as the previous one, but appliable to any reactant in the process. For each reactant whose order is to be determined, we need at least *two* data series where only the concentration of that reactant X varies, with all other variables being constant.\n",
    "\n",
    "*Graphical* method: plot the concentrations at different initial loadings against an estimation of the time integral of the concentration of X to the power of *r*. The formula for this is:\n",
    "\n",
    "$Z = \\int_{0̣}^{n} [X]^{r} dt = \\sum_{i=1}^{n} \\left(\\frac{[X]_{i} + [X]_{i-1}}{2}\\right) (t_{i} - t_{i-1})$\n",
    "\n",
    "When plotting any concentration in the dataset against Z, the value of **r** for which all the curves fully overlap is the order in X for the reaction.\n",
    "\n",
    "**Important note**: we may select the concentration of any species (reactant, product...) to do the plotting against the normalized timescale **Z**. However, if the initial concentration of the selected species is not the same in the different experiments, the curves will be shifted. We may displace the curves along the y-axis, but it is simpler to just select a species to plot that is constant: in general, avoid plotting against the species *X* that has been used to compute **Z**.\n",
    "\n",
    "Key steps:\n",
    "1. Read information: multiple CSV files, with datasets and initial info.\n",
    "2. Format and clean data: get the information sets for each molecules so that every parameter is constant except for the concentration of the target species.\n",
    "3. Plot the concentration vs. time profiles.\n",
    "4. Try a value for **r<sub>X</sub>** and plot concentration vs **Z** profiles.\n",
    "5. Attempt to locate ideal **r** value.\n",
    "\n",
    "#### Data manipulation\n",
    "The **Z** term requires a few important data transformations from the raw concentration array:\n",
    "1. From time, we need the *intervals* $\\Delta{}t = t_{i} - t_{i-1}$.\n",
    "2. For the target concentrations, we need *rolling averages* that take $c_i$ and $c_{i-1}$, to compute $0.5 (c_i + c_{i-1})$. In Pandas, there is the `.rolling()` method, which provides a *Rolling* object in which we can applicate aggregation functions. \n",
    "3. Then, we compute the product term $\\Delta{}t\\cdot[X]_{avg}^{r}$.\n",
    "4. Finally, the *cumulative sum* of the product terms produces the final **Z**. From Pandas, there is the `.cumsum()` method.\n",
    "\n",
    "Or, in a graphical representation:\n",
    "<img src='bures_expl.png' width=800>\n",
    "\n",
    "*Hint*: for **step 2**, you should get the corresponding *Rolling* object and then apply the function required to get *averages*."
   ]
  },
  {
   "cell_type": "markdown",
   "id": "f3614ee1",
   "metadata": {},
   "source": [
    "**Step 1**: reading information. The corresponding files are:\n",
    "- Array with general information (experiment index and initial concentrations of A, B  and catalyst) is at `datasets/vtna_ex1_init_vals.dat`\n",
    "- Arrays with time and concentrations of A and B are at `datasets/vtna_ex1_X.dat`, with X ranging between 1 and 4 (experiment indices)"
   ]
  },
  {
   "cell_type": "code",
   "execution_count": 9,
   "id": "1c7f11c4",
   "metadata": {},
   "outputs": [],
   "source": [
    "#-> 1. Data reading\n",
    "\n",
    "# Read general information\n",
    "\n",
    "\n",
    "# Read all individual files. For every individual array, add a column, named exp, with the corresponding experiment index \n",
    "\n"
   ]
  },
  {
   "cell_type": "markdown",
   "id": "07f024e7",
   "metadata": {},
   "source": [
    "**Step 2**: We must check which combinations have to be considered: pairs of experiments where everything is constant, except for one variable. Display the array of general information and choose.\n"
   ]
  },
  {
   "cell_type": "code",
   "execution_count": null,
   "id": "78f0f80d",
   "metadata": {},
   "outputs": [],
   "source": [
    "#-> 2. Show the DataFrame and write the pairs of indices for each species as variables."
   ]
  },
  {
   "cell_type": "markdown",
   "id": "848a8b24",
   "metadata": {},
   "source": [
    "**Step 3**. Plot the concentration vs. time plots for the species *P*, in a 1x3 layout, for each of the three pairs of experiments decided in the previous step. That is:\n",
    "\n",
    "- Concentration of P against time for the pair (i,j) used to determine the order in A.\n",
    "- Concentration of P against time for the pair (k,l) used to determine the order in B.\n",
    "- Concentration of P against time for the pair (m,n) used to determine the order in catalyst."
   ]
  },
  {
   "cell_type": "code",
   "execution_count": 11,
   "id": "d8230a01",
   "metadata": {},
   "outputs": [],
   "source": [
    "#-> 3. Create the layout\n",
    "\n",
    "# Build the three plots"
   ]
  },
  {
   "cell_type": "markdown",
   "id": "535e3166",
   "metadata": {},
   "source": [
    "**Step 4**. Test a single value for the exponent *r*, to determine the order in the reactant A. To do this, you will need to compute the **Z** term from the VTNA equations, considering the pair *(i,j)* selected for the species A. Follow the guidelines for data transformations explained before. Any concentration can be plotted, as it does not have to be A: here we will consider the product P."
   ]
  },
  {
   "cell_type": "code",
   "execution_count": 12,
   "id": "739493e3",
   "metadata": {},
   "outputs": [],
   "source": [
    "#-> 4. Solve the VTNA equations.\n",
    "\n",
    "# Get time intervals\n",
    "\n",
    "# Get rolling averages\n",
    "\n",
    "# Get the per-observation product: time interval x rolling average\n",
    "\n",
    "# Compute cumulative sums of these products: normalized time scale"
   ]
  },
  {
   "cell_type": "code",
   "execution_count": null,
   "id": "2e26bfd6",
   "metadata": {},
   "outputs": [],
   "source": []
  },
  {
   "cell_type": "code",
   "execution_count": null,
   "id": "58a1da83",
   "metadata": {},
   "outputs": [],
   "source": []
  },
  {
   "cell_type": "markdown",
   "id": "fc3b8eb2",
   "metadata": {},
   "source": [
    "**Step 5**. Test several values for the exponent *r*, to determine the order in the reactant A. Repeat the previous strategy, but this time testing an array of values of r: use a 1x4 layout and test 4 values at once."
   ]
  },
  {
   "cell_type": "code",
   "execution_count": 13,
   "id": "7bf2d8ab",
   "metadata": {},
   "outputs": [],
   "source": [
    "#-> 5. Test a set of r values for VTNA. Plot all curves in a single layout, using plt.subplots. \n",
    "# There must be as many plots as tested values.\n",
    "# Hint: use a list or an array, with np.linspace "
   ]
  },
  {
   "cell_type": "code",
   "execution_count": null,
   "id": "5d771f8f",
   "metadata": {},
   "outputs": [],
   "source": []
  },
  {
   "cell_type": "code",
   "execution_count": null,
   "id": "71b8acbb",
   "metadata": {},
   "outputs": [],
   "source": []
  },
  {
   "cell_type": "markdown",
   "id": "f44cc733",
   "metadata": {},
   "source": [
    "### 3. Generalization and better practices\n",
    "Once the problem has been solved (or at least we know how to do it), it is advisable to clean up and organize the corresponding code. To do this, tasks should be encapsulated in *functions*, so the code becomes easier to use.\n",
    "\n",
    "Here, you will write a function that, taking these arguments:\n",
    "- List of r values to test.\n",
    "- List of DataFrames with concentration and time corresponding to a pair of experiments used to determine the order in a species X.\n",
    "- Name/label of the target species X for which we are determining the order (corresponds to a column in the DataFrame).\n",
    "- Name/label of the species whose concentration is to be plotted (corresponds to a column in the DataFrame but does not have to be the species for which we are computing the order).\n",
    "\n",
    "applies the VTNA method, as done before."
   ]
  },
  {
   "cell_type": "code",
   "execution_count": null,
   "id": "1d537e64",
   "metadata": {},
   "outputs": [],
   "source": [
    "#-> Write the function"
   ]
  },
  {
   "cell_type": "code",
   "execution_count": null,
   "id": "a966e269",
   "metadata": {},
   "outputs": [],
   "source": [
    "#-> Test the function for A, B and catalyst"
   ]
  },
  {
   "cell_type": "code",
   "execution_count": null,
   "id": "ec18ba8b",
   "metadata": {},
   "outputs": [],
   "source": []
  },
  {
   "cell_type": "code",
   "execution_count": null,
   "id": "180c0f36",
   "metadata": {},
   "outputs": [],
   "source": []
  },
  {
   "cell_type": "code",
   "execution_count": null,
   "id": "262f16a7",
   "metadata": {},
   "outputs": [],
   "source": []
  }
 ],
 "metadata": {
  "kernelspec": {
   "display_name": "Python 3 (ipykernel)",
   "language": "python",
   "name": "python3"
  },
  "language_info": {
   "codemirror_mode": {
    "name": "ipython",
    "version": 3
   },
   "file_extension": ".py",
   "mimetype": "text/x-python",
   "name": "python",
   "nbconvert_exporter": "python",
   "pygments_lexer": "ipython3",
   "version": "3.10.12"
  }
 },
 "nbformat": 4,
 "nbformat_minor": 5
}
