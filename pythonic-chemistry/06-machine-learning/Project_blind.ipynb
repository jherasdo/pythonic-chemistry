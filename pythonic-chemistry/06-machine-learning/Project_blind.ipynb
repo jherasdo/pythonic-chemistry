{
 "cells": [
  {
   "cell_type": "markdown",
   "metadata": {},
   "source": [
    "# **The Project**"
   ]
  },
  {
   "cell_type": "markdown",
   "metadata": {},
   "source": [
    "The final project of this lecture is to use the TOX21 dataset that contains molecular `SMILES` and to train a model to able to classify a molecule as toxic or non-toxic.\n",
    "\n",
    "The `TOX21` Data challenge has been the largest effort of the scientific community to compare computational methods for toxicity prediction. \n",
    "[[link]](https://tripod.nih.gov/tox21/challenge/data.jsp#)\n",
    "\n",
    "Here we provide a bit of help to structure your project:\n",
    "\n",
    "- Load both the training and test datasets CSV files and explore them\n",
    "- Build a function that uses RDKit to interpret the SMILE representation present in the CSV files\n",
    "- From that list of SMILES extrat the Molecular Morgan FingerPrints as representation for the molecule. [[more Help]](https://www.rdkit.org/docs/GettingStartedInPython.html)\n",
    "- Choose a couple of reasonable models from scikit-learn able to classify does molecules into toxic and non-toxic.\n",
    "- Train it a assess its performance by classifying the ones in the test set.\n",
    "- Try to improve the model performance:\n",
    "    - Cross-validation strategy\n",
    "    - Hyperparameter optimization"
   ]
  },
  {
   "cell_type": "code",
   "execution_count": null,
   "metadata": {},
   "outputs": [],
   "source": [
    "# Import libraries here\n",
    "import pickle\n",
    "import numpy as np\n",
    "import pandas as pd\n",
    "\n",
    "from sklearn.linear_model import LogisticRegression\n",
    "from sklearn.metrics import accuracy_score\n",
    "\n",
    "from rdkit import Chem\n",
    "from rdkit.Chem import AllChem\n",
    "from rdkit.Chem import Draw\n",
    "\n",
    "import IPython.core.display\n",
    "from IPython.display import HTML"
   ]
  },
  {
   "cell_type": "markdown",
   "metadata": {},
   "source": [
    "## 1.0 Load CSV files"
   ]
  },
  {
   "cell_type": "code",
   "execution_count": null,
   "metadata": {},
   "outputs": [],
   "source": [
    "# Load CSV files with pandas\n"
   ]
  },
  {
   "cell_type": "code",
   "execution_count": null,
   "metadata": {},
   "outputs": [],
   "source": [
    "# Convert df smile and target as lists\n",
    "smile_list = tox_train[\"smile\"].tolist()\n",
    "target_list = tox_train[\"target\"].tolist()"
   ]
  },
  {
   "cell_type": "markdown",
   "metadata": {},
   "source": [
    "## 2.0 Helper functions"
   ]
  },
  {
   "cell_type": "markdown",
   "metadata": {},
   "source": [
    "Build the funstions to convert from smile to rdkit molecule object and to extract the Morgan Fingerprints out of that molecule object. In two different functions."
   ]
  },
  {
   "cell_type": "code",
   "execution_count": null,
   "metadata": {},
   "outputs": [],
   "source": [
    "# We need a function that converts smile to rdkit molecule and get their fingerprints\n",
    "\n",
    "def _smile_2_mol(smile):\n",
    "    \"\"\"Helper function to convert smile to rdkit mol\"\"\"\n",
    "    return\n",
    "\n",
    "def _morgan_representation(mol, radius=6):\n",
    "    \"\"\"Helper function to convert smile to morgan finger prints\"\"\"\n",
    "    return\n",
    "\n",
    "def _save_model(model, filename=\"./best_model.pkl\"):\n",
    "    \"\"\"Helper function to save a model into a pickle file\"\"\"\n",
    "    with open(filename, \"wb\") as p_file:\n",
    "        pickle.dump(model, p_file)\n",
    "    p_file.close()\n",
    "    return\n",
    "\n",
    "def _load_model(filename):\n",
    "    \"\"\"Helper function load a ml model from pickle file\"\"\"\n",
    "    with open(filename, \"rb\") as p_file:\n",
    "        model = pickle.load(p_file)\n",
    "    p_file.close()\n",
    "    return model"
   ]
  },
  {
   "cell_type": "markdown",
   "metadata": {},
   "source": [
    "## 3.0 Process the training data"
   ]
  },
  {
   "cell_type": "markdown",
   "metadata": {},
   "source": [
    "Now use the previuous function to actually convert the dataset into Morgan fingerprints and store the representation and target in a dictionary."
   ]
  },
  {
   "cell_type": "code",
   "execution_count": null,
   "metadata": {},
   "outputs": [],
   "source": [
    "# Collect fingerprint and target as dict\n",
    "dataset = {\"rep\": [], \"target\": []}\n"
   ]
  },
  {
   "cell_type": "code",
   "execution_count": null,
   "metadata": {},
   "outputs": [],
   "source": [
    "# Arrays for input and target\n",
    "x_tox21 = np.array(dataset[\"rep\"])\n",
    "y_tox21 = np.array(dataset[\"target\"])"
   ]
  },
  {
   "cell_type": "markdown",
   "metadata": {},
   "source": [
    "## 4.0 Train the model"
   ]
  },
  {
   "cell_type": "markdown",
   "metadata": {},
   "source": [
    "Implement the code to train a given model using `KFold` strategy and to save the best model as pickle file."
   ]
  },
  {
   "cell_type": "code",
   "execution_count": null,
   "metadata": {},
   "outputs": [],
   "source": [
    "# In this case, we are gonna use logistic regressor as the model\n",
    "from sklearn.model_selection import train_test_split, KFold, cross_val_score\n"
   ]
  },
  {
   "cell_type": "markdown",
   "metadata": {},
   "source": [
    "## 5.0 Process the test data for TOX21"
   ]
  },
  {
   "cell_type": "markdown",
   "metadata": {},
   "source": [
    "Do the same as you did for the training dataset but for the test dataset, so you can see the actual accuracy of your model in this new dataset"
   ]
  },
  {
   "cell_type": "code",
   "execution_count": null,
   "metadata": {},
   "outputs": [],
   "source": [
    "# Convert df smile and target as lists\n",
    "smile_test_list = tox_test[\"smile\"].tolist()\n",
    "target_test_list = tox_test[\"target\"].tolist()\n",
    "\n",
    "# Build the test dataset as a dict\n",
    "dataset_test = {\"rep\": [], \"target\": []}\n"
   ]
  },
  {
   "cell_type": "markdown",
   "metadata": {},
   "source": [
    "## 6.0 Load the best model"
   ]
  },
  {
   "cell_type": "markdown",
   "metadata": {},
   "source": [
    "Load the best model using the `_load_model` function and assess the accuracy of your model with test dataset"
   ]
  },
  {
   "cell_type": "code",
   "execution_count": null,
   "metadata": {},
   "outputs": [],
   "source": [
    "# Best model\n",
    "model = _load_model(filename=\"./best_model.pkl\")\n",
    "print(model)"
   ]
  },
  {
   "cell_type": "code",
   "execution_count": null,
   "metadata": {},
   "outputs": [],
   "source": [
    "# Performance\n",
    "y_pred = model.predict(x_test_tox21)\n",
    "\n",
    "print(f\"The accuracy is {accuracy_score(y_pred, y_test_tox21)}\")"
   ]
  },
  {
   "cell_type": "markdown",
   "metadata": {},
   "source": [
    "## 7.0 Play with your model!"
   ]
  },
  {
   "cell_type": "markdown",
   "metadata": {},
   "source": [
    "Use your model to predict whether caffefine and Pentaclorophenol is a toxic molecule or not!"
   ]
  },
  {
   "cell_type": "code",
   "execution_count": null,
   "metadata": {},
   "outputs": [],
   "source": [
    "# Caffeine\n",
    "caffeine = Chem.MolFromSmiles(\"CN1C=NC2=C1C(=O)N(C(=O)N2C)C\")\n",
    "caff_img = Draw.MolToImage(caffeine)\n",
    "display(caff_img)"
   ]
  },
  {
   "cell_type": "code",
   "execution_count": null,
   "metadata": {},
   "outputs": [],
   "source": [
    "# Convert mol to Finger prints\n",
    "\n",
    "\n",
    "# Predict value\n",
    "\n",
    "\n",
    "if caff_tox == 0:\n",
    "    print(\"Caffeine is non-toxic!\")\n",
    "else:\n",
    "    print(\"Caffeine is toxic!\")"
   ]
  },
  {
   "cell_type": "code",
   "execution_count": null,
   "metadata": {},
   "outputs": [],
   "source": [
    "# Pentaclorophenol\n",
    "cloro_phenol = Chem.MolFromSmiles(\"C1(=C(C(=C(C(=C1Cl)Cl)Cl)Cl)Cl)O\")\n",
    "cloro_phenol_img = Draw.MolToImage(cloro_phenol)\n",
    "display(cloro_phenol_img)"
   ]
  },
  {
   "cell_type": "code",
   "execution_count": null,
   "metadata": {},
   "outputs": [],
   "source": [
    "# Convert mol to Finger prints\n",
    "\n",
    "\n",
    "# Predict value\n",
    "\n",
    "\n",
    "if cloro_phenol_tox == 0:\n",
    "    print(\"Pentaclorophenol is non-toxic!\")\n",
    "else:\n",
    "    print(\"Pentaclorophenol is toxic!\")"
   ]
  },
  {
   "cell_type": "markdown",
   "metadata": {},
   "source": [
    "Use this model to predict the toxicity of a molecular that you normally use in your lab!"
   ]
  }
 ],
 "metadata": {
  "kernelspec": {
   "display_name": "pythonic-chemistry",
   "language": "python",
   "name": "python3"
  },
  "language_info": {
   "codemirror_mode": {
    "name": "ipython",
    "version": 3
   },
   "file_extension": ".py",
   "mimetype": "text/x-python",
   "name": "python",
   "nbconvert_exporter": "python",
   "pygments_lexer": "ipython3",
   "version": "3.10.12"
  }
 },
 "nbformat": 4,
 "nbformat_minor": 2
}
