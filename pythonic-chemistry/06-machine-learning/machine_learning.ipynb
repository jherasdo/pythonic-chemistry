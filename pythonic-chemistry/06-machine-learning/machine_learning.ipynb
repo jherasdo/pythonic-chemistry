{
 "cells": [
  {
   "cell_type": "markdown",
   "metadata": {},
   "source": [
    "# **Machine Learning**"
   ]
  },
  {
   "cell_type": "markdown",
   "metadata": {},
   "source": [
    "## 1.0 Introduction"
   ]
  },
  {
   "cell_type": "markdown",
   "metadata": {},
   "source": [
    "Machine Learning is a branch of artificial intelligence (AI) and computer science which focuses on the use of data and algorithms to imitate the way that humans learn, gradually improving its accuracy. Over the last couple of decades, the technological advances in storage and processing power have enabled some innovative products based on machine learning, such as Netflix's recommendation engine and self-driving cars.\n",
    "\n",
    "Machine learning is an important component of the growing field of data science. Through the use of statistical methods, algorithms are trained to make classifications or predictins, and to uncover key insights in data mining projects. These insights subsequently drive decision making within applications and businesses, ideally impacting key growth metrics. As big data continus to expand and grow, the market demand for data scientists will increase. They will be required to help identify the most relevant business questions and the data to answer them."
   ]
  },
  {
   "cell_type": "markdown",
   "metadata": {},
   "source": [
    "<center><img src=\"./deep_learning.png\" /></center>"
   ]
  },
  {
   "cell_type": "markdown",
   "metadata": {},
   "source": [
    "### 1.1 How Machine Learning Works?"
   ]
  },
  {
   "cell_type": "markdown",
   "metadata": {},
   "source": [
    "Let's break machin learning algorithms into three main parts:\n",
    "\n",
    "- `A Decision Process:` In general, machine learning algorithms are used to make a prediction or classification. Based on some input data, which can be labeled or unlabeled, your algorithm will produce an estimate about a pattern in the data. \n",
    "\n",
    "- `An Error Function:` An error function evaluates the prediction of the model. If there are known examples, an error functon can make a comparison to assess the accuracy of the model.\n",
    "\n",
    "- `A Model Optimization Process`: If the model can fit better the data points in the training set, then weights are adjusted to reduce the discrepancy between the known example and the model estimate. The algorithm will repat this \"evaluate and optimize\" process, updating weigths autonomously until a threshold of accuracy has been met."
   ]
  },
  {
   "cell_type": "markdown",
   "metadata": {},
   "source": [
    "### 1.3 Machine Learning Methods"
   ]
  },
  {
   "cell_type": "markdown",
   "metadata": {},
   "source": [
    "Machine learning models fall into three primary categories:\n",
    "\n",
    "- **Supervised Machine Learning**: Is defined by its use of labeled datasets to train algorithms to classify data or predict outcomes accurately. As input data is fed into the model, the model adjusts its weights until it has been fitted appropiately. This occurs as part of the cross validation process to ensure that the model avoids **overfitting** or **underfitting**. Supervised learning helps organizations solve a variety of real-world problems at scale, such as classifyting spam in a separate folder from your inbox. Some methods used in supervised learning include neural networks, naïve bayes, linear regression, logistic regression, radom forest and support vector machine (SVM).\n",
    "\n",
    "- **Unsupervised Machine Learning**: Is the use of machine learning algorithms to analyze and cluster unlabeled datasets. These algorithms discover hidden patterns or data groupings without the need for human intervation. This method's ability to discover similarities and differences in information make it ideal for exploratory data analysis cross-selling strategies, customer segmentation, and image and pattern recognition. It's also used to reduce the number of features in a model through the process of dimensionality reduction. Principal component analysis (PCA) and singular value decomposition (SVD) are two common approaches for this. Other algorithms used in unsupervised learning include neural networks, k-means clustering and probabilistic clustering methods.\n",
    "\n",
    "- **Semi-supervised learning**: These methods offers a happy medium between supervised and unsupervised learning. During training, its uses a smaller labeled data set to guide classification and feature extraction from a larger, unlabeled dataset. Semi-supervised learning can solve the problem of not having enough labeled data for a supervised learning algorithm. It also helps if it's too costly to label enough data."
   ]
  },
  {
   "cell_type": "markdown",
   "metadata": {},
   "source": [
    "## 2.0 Supervised Learning"
   ]
  },
  {
   "cell_type": "markdown",
   "metadata": {},
   "source": [
    "## 3.0 Unsupervised Learning"
   ]
  }
 ],
 "metadata": {
  "kernelspec": {
   "display_name": "pythonic-chemistry",
   "language": "python",
   "name": "python3"
  },
  "language_info": {
   "codemirror_mode": {
    "name": "ipython",
    "version": 3
   },
   "file_extension": ".py",
   "mimetype": "text/x-python",
   "name": "python",
   "nbconvert_exporter": "python",
   "pygments_lexer": "ipython3",
   "version": "3.10.12"
  }
 },
 "nbformat": 4,
 "nbformat_minor": 2
}
