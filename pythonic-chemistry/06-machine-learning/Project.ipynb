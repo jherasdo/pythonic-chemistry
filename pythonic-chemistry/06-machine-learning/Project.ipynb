{
 "cells": [
  {
   "cell_type": "markdown",
   "metadata": {},
   "source": [
    "# **The Project**"
   ]
  },
  {
   "cell_type": "markdown",
   "metadata": {},
   "source": [
    "The final project of this lecture is to use the TOX21 dataset that contains molecular `SMILES` and to train a model to able to classify a molecule as toxic or non-toxic.\n",
    "\n",
    "The `TOX21` Data challenge has been the largest effort of the scientific community to compare computational methods for toxicity prediction. \n",
    "[[link]](https://tripod.nih.gov/tox21/challenge/data.jsp#)\n",
    "\n",
    "Here we provide a bit of help to structure your project:\n",
    "\n",
    "- Load both the training and test datasets CSV files and explore them\n",
    "- Build a function that uses RDKit to interpret the SMILE representation present in the CSV files\n",
    "- From that list of SMILES extrat the Molecular Morgan FingerPrints as representation for the molecule. [[more Help]](https://www.rdkit.org/docs/GettingStartedInPython.html)\n",
    "- Choose a couple of reasonable models from scikit-learn able to classify does molecules into toxic and non-toxic.\n",
    "- Train it a assess its performance by classifying the ones in the test set.\n",
    "- Try to improve the model performance:\n",
    "    - Cross-validation strategy\n",
    "    - Hyperparameter optimization"
   ]
  },
  {
   "cell_type": "code",
   "execution_count": 1,
   "metadata": {},
   "outputs": [],
   "source": [
    "# Import libraries here\n",
    "import pickle\n",
    "import numpy as np\n",
    "import pandas as pd\n",
    "\n",
    "from sklearn.linear_model import LogisticRegression\n",
    "from sklearn.metrics import accuracy_score\n",
    "\n",
    "from rdkit import Chem\n",
    "from rdkit.Chem import AllChem\n",
    "from rdkit.Chem import Draw\n",
    "\n",
    "import IPython.core.display\n",
    "from IPython.display import HTML"
   ]
  },
  {
   "cell_type": "markdown",
   "metadata": {},
   "source": [
    "## 1.0 Load CSV files"
   ]
  },
  {
   "cell_type": "code",
   "execution_count": 2,
   "metadata": {},
   "outputs": [
    {
     "data": {
      "text/html": [
       "<div>\n",
       "<style scoped>\n",
       "    .dataframe tbody tr th:only-of-type {\n",
       "        vertical-align: middle;\n",
       "    }\n",
       "\n",
       "    .dataframe tbody tr th {\n",
       "        vertical-align: top;\n",
       "    }\n",
       "\n",
       "    .dataframe thead th {\n",
       "        text-align: right;\n",
       "    }\n",
       "</style>\n",
       "<table border=\"1\" class=\"dataframe\">\n",
       "  <thead>\n",
       "    <tr style=\"text-align: right;\">\n",
       "      <th></th>\n",
       "      <th>id</th>\n",
       "      <th>smile</th>\n",
       "      <th>target</th>\n",
       "    </tr>\n",
       "  </thead>\n",
       "  <tbody>\n",
       "    <tr>\n",
       "      <th>0</th>\n",
       "      <td>NCGC00167516-01</td>\n",
       "      <td>CC(O)=O.CCNC(=O)[C@@H]1CCCN1C(=O)[C@H](CCCNC(N...</td>\n",
       "      <td>0</td>\n",
       "    </tr>\n",
       "    <tr>\n",
       "      <th>1</th>\n",
       "      <td>NCGC00181091-01</td>\n",
       "      <td>Cl.CCCCCCOC1=CC=C(C(=N)N(CCCC)CCCC)C2=C1C=CC=C2</td>\n",
       "      <td>1</td>\n",
       "    </tr>\n",
       "    <tr>\n",
       "      <th>2</th>\n",
       "      <td>NCGC00094089-01</td>\n",
       "      <td>Cl.Cl.COCC(=O)O[C@]3(CCN(C)CCCC1=NC2=C(N1)C=CC...</td>\n",
       "      <td>1</td>\n",
       "    </tr>\n",
       "    <tr>\n",
       "      <th>3</th>\n",
       "      <td>NCGC00094996-01</td>\n",
       "      <td>Cl.Cl.CCCCC(CC)CNC(=N)NC(=N)NCCCCCCNC(=N)NC(=N...</td>\n",
       "      <td>1</td>\n",
       "    </tr>\n",
       "    <tr>\n",
       "      <th>4</th>\n",
       "      <td>NCGC00257773-01</td>\n",
       "      <td>[Br-].CCCCCCCCCCCC[N+](C)(C)CCOC1=CC=CC=C1</td>\n",
       "      <td>0</td>\n",
       "    </tr>\n",
       "  </tbody>\n",
       "</table>\n",
       "</div>"
      ],
      "text/plain": [
       "                id                                              smile  target\n",
       "0  NCGC00167516-01  CC(O)=O.CCNC(=O)[C@@H]1CCCN1C(=O)[C@H](CCCNC(N...       0\n",
       "1  NCGC00181091-01    Cl.CCCCCCOC1=CC=C(C(=N)N(CCCC)CCCC)C2=C1C=CC=C2       1\n",
       "2  NCGC00094089-01  Cl.Cl.COCC(=O)O[C@]3(CCN(C)CCCC1=NC2=C(N1)C=CC...       1\n",
       "3  NCGC00094996-01  Cl.Cl.CCCCC(CC)CNC(=N)NC(=N)NCCCCCCNC(=N)NC(=N...       1\n",
       "4  NCGC00257773-01         [Br-].CCCCCCCCCCCC[N+](C)(C)CCOC1=CC=CC=C1       0"
      ]
     },
     "execution_count": 2,
     "metadata": {},
     "output_type": "execute_result"
    }
   ],
   "source": [
    "# Load CSV files with pandas\n",
    "tox_train = pd.read_csv(\"./datasets/tox21_train.csv\")\n",
    "tox_test = pd.read_csv(\"./datasets/tox21_test.csv\")\n",
    "\n",
    "tox_train.head()"
   ]
  },
  {
   "cell_type": "code",
   "execution_count": 3,
   "metadata": {},
   "outputs": [],
   "source": [
    "# Convert df smile and target as lists\n",
    "smile_list = tox_train[\"smile\"].tolist()\n",
    "target_list = tox_train[\"target\"].tolist()"
   ]
  },
  {
   "cell_type": "markdown",
   "metadata": {},
   "source": [
    "## 2.0 Helper functions"
   ]
  },
  {
   "cell_type": "markdown",
   "metadata": {},
   "source": [
    "Build the funstions to convert from smile to rdkit molecule object and to extract the Morgan Fingerprints out of that molecule object. In two different functions."
   ]
  },
  {
   "cell_type": "code",
   "execution_count": 4,
   "metadata": {},
   "outputs": [],
   "source": [
    "# We need a function that converts smile to rdkit molecule and get their fingerprints\n",
    "\n",
    "def _smile_2_mol(smile):\n",
    "    \"\"\"Helper function to convert smile to rdkit mol\"\"\"\n",
    "    m = Chem.MolFromSmiles(smile)\n",
    "    return m\n",
    "\n",
    "def _morgan_representation(mol, radius=6):\n",
    "    \"\"\"Helper function to convert smile to morgan finger prints\"\"\"\n",
    "    fpgen = AllChem.GetMorganGenerator(radius=radius)\n",
    "    fp = fpgen.GetFingerprint(mol)\n",
    "    return np.array(fp)\n",
    "\n",
    "def _save_model(model, filename=\"./best_model.pkl\"):\n",
    "    \"\"\"Helper function to save a model into a pickle file\"\"\"\n",
    "    with open(filename, \"wb\") as p_file:\n",
    "        pickle.dump(model, p_file)\n",
    "    p_file.close()\n",
    "    return\n",
    "\n",
    "def _load_model(filename):\n",
    "    \"\"\"Helper function load a ml model from pickle file\"\"\"\n",
    "    with open(filename, \"rb\") as p_file:\n",
    "        model = pickle.load(p_file)\n",
    "    p_file.close()\n",
    "    return model"
   ]
  },
  {
   "cell_type": "markdown",
   "metadata": {},
   "source": [
    "## 3.0 Process the training data"
   ]
  },
  {
   "cell_type": "markdown",
   "metadata": {},
   "source": [
    "Now use the previuous function to actually convert the dataset into Morgan fingerprints and store the representation and target in a dictionary."
   ]
  },
  {
   "cell_type": "code",
   "execution_count": 5,
   "metadata": {},
   "outputs": [
    {
     "name": "stderr",
     "output_type": "stream",
     "text": [
      "[12:31:22] Explicit valence for atom # 3 Si, 8, is greater than permitted\n"
     ]
    },
    {
     "name": "stdout",
     "output_type": "stream",
     "text": [
      "invalid molecule\n"
     ]
    },
    {
     "name": "stderr",
     "output_type": "stream",
     "text": [
      "[12:31:22] Explicit valence for atom # 0 Cl, 2, is greater than permitted\n"
     ]
    },
    {
     "name": "stdout",
     "output_type": "stream",
     "text": [
      "invalid molecule\n"
     ]
    },
    {
     "name": "stderr",
     "output_type": "stream",
     "text": [
      "[12:31:23] Explicit valence for atom # 2 Cl, 2, is greater than permitted\n"
     ]
    },
    {
     "name": "stdout",
     "output_type": "stream",
     "text": [
      "invalid molecule\n"
     ]
    },
    {
     "name": "stderr",
     "output_type": "stream",
     "text": [
      "[12:31:24] WARNING: not removing hydrogen atom without neighbors\n",
      "[12:31:25] Explicit valence for atom # 3 Si, 8, is greater than permitted\n"
     ]
    },
    {
     "name": "stdout",
     "output_type": "stream",
     "text": [
      "invalid molecule\n"
     ]
    }
   ],
   "source": [
    "# Collect fingerprint and target as dict\n",
    "dataset = {\"rep\": [], \"target\": []}\n",
    "\n",
    "for idx, (smile, target) in enumerate(zip(smile_list, target_list)):\n",
    "    try:\n",
    "        # Convert smile to mol\n",
    "        mol = _smile_2_mol(smile)\n",
    "        # From mol to FP\n",
    "        fp = _morgan_representation(mol)\n",
    "        # Append\n",
    "        dataset[\"rep\"].append(fp)\n",
    "        dataset[\"target\"].append(target)\n",
    "\n",
    "    except:\n",
    "        print(\"invalid molecule\")"
   ]
  },
  {
   "cell_type": "code",
   "execution_count": 6,
   "metadata": {},
   "outputs": [],
   "source": [
    "# Arrays for input and target\n",
    "x_tox21 = np.array(dataset[\"rep\"])\n",
    "y_tox21 = np.array(dataset[\"target\"])"
   ]
  },
  {
   "cell_type": "markdown",
   "metadata": {},
   "source": [
    "## 4.0 Train the model"
   ]
  },
  {
   "cell_type": "markdown",
   "metadata": {},
   "source": [
    "Implement the code to train a given model using `KFold` strategy and to save the best model as pickle file."
   ]
  },
  {
   "cell_type": "code",
   "execution_count": 7,
   "metadata": {},
   "outputs": [
    {
     "name": "stdout",
     "output_type": "stream",
     "text": [
      "Kfold: 0 has a score of 0.9188034188034188\n",
      "Saving model...\n",
      "Kfold: 1 has a score of 0.9305555555555556\n",
      "Saving model...\n",
      "Kfold: 2 has a score of 0.9252136752136753\n",
      "Kfold: 3 has a score of 0.905982905982906\n",
      "Kfold: 4 has a score of 0.9572649572649573\n",
      "Saving model...\n",
      "Kfold: 5 has a score of 0.969017094017094\n",
      "Saving model...\n",
      "Kfold: 6 has a score of 0.9775641025641025\n",
      "Saving model...\n",
      "Kfold: 7 has a score of 0.9807692307692307\n",
      "Saving model...\n",
      "Kfold: 8 has a score of 0.9786096256684492\n",
      "Kfold: 9 has a score of 0.9893048128342246\n",
      "Saving model...\n",
      "The score's mean is 0.9533085378673615\n"
     ]
    }
   ],
   "source": [
    "# In this case, we are gonna use logistic regressor as the model\n",
    "from sklearn.model_selection import train_test_split, KFold, cross_val_score\n",
    "\n",
    "scores = []\n",
    "kfold = KFold(n_splits=10)\n",
    "best_score = 0\n",
    "for idx, (train_index, test_index) in enumerate(kfold.split(x_tox21)):\n",
    "    # Lower case to differenciate between X and x\n",
    "    x_train, x_test, y_train, y_test = x_tox21[train_index], x_tox21[test_index], y_tox21[train_index], y_tox21[test_index]\n",
    "\n",
    "    # Initialize model\n",
    "    lr = LogisticRegression(max_iter=300)\n",
    "\n",
    "    # Fit the model\n",
    "    lr.fit(x_train, y_train)\n",
    "\n",
    "    # Score\n",
    "    k_score = lr.score(x_test, y_test)\n",
    "\n",
    "    # Store scores\n",
    "    scores.append(k_score)\n",
    "    print(f\"Kfold: {idx} has a score of {k_score}\")\n",
    "\n",
    "    # Store model\n",
    "    if k_score > best_score:\n",
    "        # Update score\n",
    "        best_score = k_score\n",
    "        # Save the model\n",
    "        print(\"Saving model...\")\n",
    "        _save_model(lr, filename=\"./best_model.pkl\")\n",
    "        \n",
    "\n",
    "# The scores' mean\n",
    "print(f\"The score's mean is {np.mean(scores)}\")"
   ]
  },
  {
   "cell_type": "markdown",
   "metadata": {},
   "source": [
    "## 5.0 Process the test data for TOX21"
   ]
  },
  {
   "cell_type": "markdown",
   "metadata": {},
   "source": [
    "Do the same as you did for the training dataset but for the test dataset, so you can see the actual accuracy of your model in this new dataset"
   ]
  },
  {
   "cell_type": "code",
   "execution_count": 8,
   "metadata": {},
   "outputs": [],
   "source": [
    "# Convert df smile and target as lists\n",
    "smile_test_list = tox_test[\"smile\"].tolist()\n",
    "target_test_list = tox_test[\"target\"].tolist()\n",
    "\n",
    "# Build the test dataset as a dict\n",
    "dataset_test = {\"rep\": [], \"target\": []}\n",
    "\n",
    "for idx, (smile, target) in enumerate(zip(smile_test_list, target_test_list)):\n",
    "    try:\n",
    "        # Convert smile to mol\n",
    "        mol = _smile_2_mol(smile)\n",
    "        # From mol to FP\n",
    "        fp = _morgan_representation(mol)\n",
    "        # Append\n",
    "        dataset_test[\"rep\"].append(fp)\n",
    "        dataset_test[\"target\"].append(target)\n",
    "\n",
    "    except:\n",
    "        print(\"invalid molecule\")\n",
    "\n",
    "# Arrays for input and target\n",
    "x_test_tox21 = np.array(dataset_test[\"rep\"])\n",
    "y_test_tox21 = np.array(dataset_test[\"target\"])"
   ]
  },
  {
   "cell_type": "markdown",
   "metadata": {},
   "source": [
    "## 6.0 Load the best model"
   ]
  },
  {
   "cell_type": "markdown",
   "metadata": {},
   "source": [
    "Load the best model using the `_load_model` function and assess the accuracy of your model with test dataset"
   ]
  },
  {
   "cell_type": "code",
   "execution_count": 9,
   "metadata": {},
   "outputs": [
    {
     "name": "stdout",
     "output_type": "stream",
     "text": [
      "LogisticRegression(max_iter=300)\n"
     ]
    }
   ],
   "source": [
    "# Best model\n",
    "model = _load_model(filename=\"./best_model.pkl\")\n",
    "print(model)"
   ]
  },
  {
   "cell_type": "code",
   "execution_count": 10,
   "metadata": {},
   "outputs": [
    {
     "name": "stdout",
     "output_type": "stream",
     "text": [
      "The accuracy is 0.9448275862068966\n"
     ]
    }
   ],
   "source": [
    "# Performance\n",
    "y_pred = model.predict(x_test_tox21)\n",
    "\n",
    "print(f\"The accuracy is {accuracy_score(y_pred, y_test_tox21)}\")"
   ]
  },
  {
   "cell_type": "markdown",
   "metadata": {},
   "source": [
    "## 7.0 Play with your model!"
   ]
  },
  {
   "cell_type": "markdown",
   "metadata": {},
   "source": [
    "Use your model to predict whether caffefine and Pentaclorophenol is a toxic molecule or not!"
   ]
  },
  {
   "cell_type": "code",
   "execution_count": 11,
   "metadata": {},
   "outputs": [
    {
     "data": {
      "image/png": "[encoded data removed]",
      "text/plain": [
       "<PIL.PngImagePlugin.PngImageFile image mode=RGB size=300x300>"
      ]
     },
     "metadata": {},
     "output_type": "display_data"
    }
   ],
   "source": [
    "# Caffeine\n",
    "caffeine = Chem.MolFromSmiles(\"CN1C=NC2=C1C(=O)N(C(=O)N2C)C\")\n",
    "caff_img = Draw.MolToImage(caffeine)\n",
    "display(caff_img)"
   ]
  },
  {
   "cell_type": "code",
   "execution_count": 12,
   "metadata": {},
   "outputs": [
    {
     "name": "stdout",
     "output_type": "stream",
     "text": [
      "Caffeine is non-toxic!\n"
     ]
    }
   ],
   "source": [
    "# Convert mol to Finger prints\n",
    "caff_fp = _morgan_representation(caffeine)\n",
    "\n",
    "# Predict value\n",
    "caff_tox = model.predict(caff_fp.reshape(1, caff_fp.shape[0]))[0]\n",
    "\n",
    "if caff_tox == 0:\n",
    "    print(\"Caffeine is non-toxic!\")\n",
    "else:\n",
    "    print(\"Caffeine is toxic!\")"
   ]
  },
  {
   "cell_type": "code",
   "execution_count": 13,
   "metadata": {},
   "outputs": [
    {
     "data": {
      "image/png": "[encoded data removed]",
      "text/plain": [
       "<PIL.PngImagePlugin.PngImageFile image mode=RGB size=300x300>"
      ]
     },
     "metadata": {},
     "output_type": "display_data"
    }
   ],
   "source": [
    "cloro_phenol = Chem.MolFromSmiles(\"C1(=C(C(=C(C(=C1Cl)Cl)Cl)Cl)Cl)O\")\n",
    "cloro_phenol_img = Draw.MolToImage(cloro_phenol)\n",
    "display(cloro_phenol_img)"
   ]
  },
  {
   "cell_type": "code",
   "execution_count": 14,
   "metadata": {},
   "outputs": [
    {
     "name": "stdout",
     "output_type": "stream",
     "text": [
      "Pentaclorophenol is toxic!\n"
     ]
    }
   ],
   "source": [
    "# Convert mol to Finger prints\n",
    "cloro_phenol_fp = _morgan_representation(cloro_phenol)\n",
    "\n",
    "test = cloro_phenol_fp.reshape(1, cloro_phenol_fp.shape[0])\n",
    "\n",
    "# Predict value\n",
    "cloro_phenol_tox = model.predict(cloro_phenol_fp.reshape(1, cloro_phenol_fp.shape[0]))\n",
    "\n",
    "if cloro_phenol_tox == 0:\n",
    "    print(\"Pentaclorophenol is non-toxic!\")\n",
    "else:\n",
    "    print(\"Pentaclorophenol is toxic!\")"
   ]
  },
  {
   "cell_type": "markdown",
   "metadata": {},
   "source": [
    "Use this model to predict the toxicity of a molecular that you normally use in your lab!"
   ]
  }
 ],
 "metadata": {
  "kernelspec": {
   "display_name": "pythonic-chemistry",
   "language": "python",
   "name": "python3"
  },
  "language_info": {
   "codemirror_mode": {
    "name": "ipython",
    "version": 3
   },
   "file_extension": ".py",
   "mimetype": "text/x-python",
   "name": "python",
   "nbconvert_exporter": "python",
   "pygments_lexer": "ipython3",
   "version": "3.10.12"
  }
 },
 "nbformat": 4,
 "nbformat_minor": 2
}
